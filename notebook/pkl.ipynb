{
 "cells": [
  {
   "cell_type": "code",
   "id": "initial_id",
   "metadata": {
    "collapsed": true,
    "ExecuteTime": {
     "end_time": "2024-10-30T08:08:10.783441Z",
     "start_time": "2024-10-30T08:08:09.449324Z"
    }
   },
   "source": [
    "import torch\n",
    "import numpy as np"
   ],
   "outputs": [],
   "execution_count": 1
  },
  {
   "metadata": {
    "ExecuteTime": {
     "end_time": "2024-10-30T10:25:43.965201Z",
     "start_time": "2024-10-30T10:25:41.490612Z"
    }
   },
   "cell_type": "code",
   "source": "p = torch.load(\"/mnt/e/Output/proj_0/test/checkpoint_final.pth\")",
   "id": "b25f4d483a88d5f5",
   "outputs": [],
   "execution_count": 3
  },
  {
   "metadata": {
    "ExecuteTime": {
     "end_time": "2024-10-30T10:26:50.486216Z",
     "start_time": "2024-10-30T10:26:50.482173Z"
    }
   },
   "cell_type": "code",
   "source": "p.keys()",
   "id": "aaae4da2305fa555",
   "outputs": [
    {
     "data": {
      "text/plain": [
       "odict_keys(['lpips.net.scaling_layer.shift', 'lpips.net.scaling_layer.scale', 'lpips.net.net.slice1.0.weight', 'lpips.net.net.slice1.0.bias', 'lpips.net.net.slice2.3.weight', 'lpips.net.net.slice2.3.bias', 'lpips.net.net.slice3.6.weight', 'lpips.net.net.slice3.6.bias', 'lpips.net.net.slice4.8.weight', 'lpips.net.net.slice4.8.bias', 'lpips.net.net.slice5.10.weight', 'lpips.net.net.slice5.10.bias', 'lpips.net.lin0.model.1.weight', 'lpips.net.lin1.model.1.weight', 'lpips.net.lin2.model.1.weight', 'lpips.net.lin3.model.1.weight', 'lpips.net.lin4.model.1.weight', 'lpips.net.lins.0.model.1.weight', 'lpips.net.lins.1.model.1.weight', 'lpips.net.lins.2.model.1.weight', 'lpips.net.lins.3.model.1.weight', 'lpips.net.lins.4.model.1.weight', 'models', 'step'])"
      ]
     },
     "execution_count": 5,
     "metadata": {},
     "output_type": "execute_result"
    }
   ],
   "execution_count": 5
  },
  {
   "metadata": {
    "ExecuteTime": {
     "end_time": "2024-10-30T10:27:40.421388Z",
     "start_time": "2024-10-30T10:27:40.417463Z"
    }
   },
   "cell_type": "code",
   "source": "p['models'].keys()",
   "id": "12a6f5e503a3ddc3",
   "outputs": [
    {
     "data": {
      "text/plain": [
       "dict_keys(['Background', 'RigidNodes', 'DeformableNodes', 'SMPLNodes', 'Sky', 'Affine', 'CamPose'])"
      ]
     },
     "execution_count": 7,
     "metadata": {},
     "output_type": "execute_result"
    }
   ],
   "execution_count": 7
  },
  {
   "metadata": {
    "ExecuteTime": {
     "end_time": "2024-10-30T12:36:18.043824Z",
     "start_time": "2024-10-30T12:36:18.031277Z"
    }
   },
   "cell_type": "code",
   "source": "p['models']['Background'].keys()",
   "id": "1e3b06f2112ce9a1",
   "outputs": [
    {
     "data": {
      "text/plain": [
       "odict_keys(['_means', '_scales', '_quats', '_features_dc', '_features_rest', '_opacities'])"
      ]
     },
     "execution_count": 16,
     "metadata": {},
     "output_type": "execute_result"
    }
   ],
   "execution_count": 16
  },
  {
   "metadata": {
    "ExecuteTime": {
     "end_time": "2024-10-30T12:38:22.412510Z",
     "start_time": "2024-10-30T12:38:22.408626Z"
    }
   },
   "cell_type": "code",
   "source": [
    "models = p['models']\n",
    "for k in models.keys():\n",
    "    print(k)\n",
    "    for name in models[k].keys():\n",
    "        print(f\"    {name}: {models[k][name].shape}\")"
   ],
   "id": "7917f3234d4ab738",
   "outputs": [
    {
     "name": "stdout",
     "output_type": "stream",
     "text": [
      "Background\n",
      "    _means: torch.Size([1030714, 3])\n",
      "    _scales: torch.Size([1030714, 3])\n",
      "    _quats: torch.Size([1030714, 4])\n",
      "    _features_dc: torch.Size([1030714, 3])\n",
      "    _features_rest: torch.Size([1030714, 15, 3])\n",
      "    _opacities: torch.Size([1030714, 1])\n",
      "RigidNodes\n",
      "    _means: torch.Size([69403, 3])\n",
      "    _scales: torch.Size([69403, 3])\n",
      "    _quats: torch.Size([69403, 4])\n",
      "    instances_quats: torch.Size([199, 11, 4])\n",
      "    instances_trans: torch.Size([199, 11, 3])\n",
      "    _features_dc: torch.Size([69403, 3])\n",
      "    _features_rest: torch.Size([69403, 15, 3])\n",
      "    _opacities: torch.Size([69403, 1])\n",
      "    points_ids: torch.Size([69403, 1])\n",
      "    instances_size: torch.Size([11, 3])\n",
      "    instances_fv: torch.Size([199, 11])\n",
      "DeformableNodes\n",
      "    _means: torch.Size([3985, 3])\n",
      "    _scales: torch.Size([3985, 3])\n",
      "    _quats: torch.Size([3985, 4])\n",
      "    instances_quats: torch.Size([199, 12, 4])\n",
      "    instances_trans: torch.Size([199, 12, 3])\n",
      "    _features_dc: torch.Size([3985, 3])\n",
      "    _features_rest: torch.Size([3985, 15, 3])\n",
      "    _opacities: torch.Size([3985, 1])\n",
      "    instances_embedding: torch.Size([12, 16])\n",
      "    deform_network.linear.0.weight: torch.Size([256, 100])\n",
      "    deform_network.linear.0.bias: torch.Size([256])\n",
      "    deform_network.linear.1.weight: torch.Size([256, 256])\n",
      "    deform_network.linear.1.bias: torch.Size([256])\n",
      "    deform_network.linear.2.weight: torch.Size([256, 256])\n",
      "    deform_network.linear.2.bias: torch.Size([256])\n",
      "    deform_network.linear.3.weight: torch.Size([256, 256])\n",
      "    deform_network.linear.3.bias: torch.Size([256])\n",
      "    deform_network.linear.4.weight: torch.Size([256, 256])\n",
      "    deform_network.linear.4.bias: torch.Size([256])\n",
      "    deform_network.linear.5.weight: torch.Size([256, 356])\n",
      "    deform_network.linear.5.bias: torch.Size([256])\n",
      "    deform_network.linear.6.weight: torch.Size([256, 256])\n",
      "    deform_network.linear.6.bias: torch.Size([256])\n",
      "    deform_network.linear.7.weight: torch.Size([256, 256])\n",
      "    deform_network.linear.7.bias: torch.Size([256])\n",
      "    deform_network.gaussian_warp.weight: torch.Size([3, 256])\n",
      "    deform_network.gaussian_warp.bias: torch.Size([3])\n",
      "    deform_network.gaussian_rotation.weight: torch.Size([4, 256])\n",
      "    deform_network.gaussian_rotation.bias: torch.Size([4])\n",
      "    points_ids: torch.Size([3985, 1])\n",
      "    instances_size: torch.Size([12, 3])\n",
      "    instances_fv: torch.Size([199, 12])\n",
      "SMPLNodes\n",
      "    _means: torch.Size([199810, 3])\n",
      "    _scales: torch.Size([199810, 3])\n",
      "    _quats: torch.Size([199810, 4])\n",
      "    _opacities: torch.Size([199810, 1])\n",
      "    instances_quats: torch.Size([199, 29, 1, 4])\n",
      "    instances_trans: torch.Size([199, 29, 3])\n",
      "    smpl_qauts: torch.Size([199, 29, 23, 4])\n",
      "    _features_dc: torch.Size([199810, 3])\n",
      "    _features_rest: torch.Size([199810, 3, 3])\n",
      "    template.init_beta: torch.Size([29, 10])\n",
      "    template.canonical_pose: torch.Size([24, 3, 3])\n",
      "    template.A0_inv: torch.Size([29, 24, 4, 4])\n",
      "    template.J_canonical: torch.Size([29, 24, 3])\n",
      "    template.W: torch.Size([29, 6890, 24])\n",
      "    template.j0_t: torch.Size([29, 3])\n",
      "    template._template_layer.shapedirs: torch.Size([6890, 3, 10])\n",
      "    template._template_layer.faces_tensor: torch.Size([13776, 3])\n",
      "    template._template_layer.v_template: torch.Size([6890, 3])\n",
      "    template._template_layer.J_regressor: torch.Size([24, 6890])\n",
      "    template._template_layer.posedirs: torch.Size([207, 20670])\n",
      "    template._template_layer.parents: torch.Size([24])\n",
      "    template._template_layer.lbs_weights: torch.Size([6890, 24])\n",
      "    template._template_layer.vertex_joint_selector.extra_joints_idxs: torch.Size([21])\n",
      "    template.voxel_deformer.voxel_w_correction: torch.Size([29, 24, 16, 64, 64])\n",
      "    template.voxel_deformer.ratio: torch.Size([])\n",
      "    template.voxel_deformer.global_scale: torch.Size([])\n",
      "    template.voxel_deformer.scale: torch.Size([29, 1, 1])\n",
      "    template.voxel_deformer.offset: torch.Size([29, 1, 3])\n",
      "    template.voxel_deformer.lbs_voxel_base: torch.Size([29, 24, 16, 64, 64])\n",
      "    template.voxel_deformer.grid_denorm: torch.Size([29, 65536, 3])\n",
      "    points_ids: torch.Size([199810, 1])\n",
      "    instances_size: torch.Size([29, 3])\n",
      "    instances_fv: torch.Size([199, 29])\n",
      "Sky\n",
      "    base: torch.Size([6, 1024, 1024, 3])\n",
      "Affine\n",
      "    embedding.weight: torch.Size([597, 4])\n",
      "    decoder.0.weight: torch.Size([64, 4])\n",
      "    decoder.0.bias: torch.Size([64])\n",
      "    decoder.2.weight: torch.Size([12, 64])\n",
      "    decoder.2.bias: torch.Size([12])\n",
      "CamPose\n",
      "    identity: torch.Size([6])\n",
      "    embeds.weight: torch.Size([597, 9])\n"
     ]
    }
   ],
   "execution_count": 18
  },
  {
   "metadata": {
    "ExecuteTime": {
     "end_time": "2024-10-30T12:55:07.624378Z",
     "start_time": "2024-10-30T12:55:07.618967Z"
    }
   },
   "cell_type": "code",
   "source": "models['RigidNodes']['_features_dc'].cpu().numpy()",
   "id": "625f400c3246ad94",
   "outputs": [
    {
     "data": {
      "text/plain": [
       "array([[-0.769646  , -0.6435071 , -0.4447514 ],\n",
       "       [ 0.96453285,  1.2497717 ,  1.5780821 ],\n",
       "       [-0.25292766, -0.00471422,  0.25920442],\n",
       "       ...,\n",
       "       [-0.15727343,  0.04750611,  0.27785206],\n",
       "       [ 0.21475318,  0.4464905 ,  0.9016624 ],\n",
       "       [-0.62659466, -0.43015796, -0.16641794]], dtype=float32)"
      ]
     },
     "execution_count": 27,
     "metadata": {},
     "output_type": "execute_result"
    }
   ],
   "execution_count": 27
  },
  {
   "metadata": {},
   "cell_type": "code",
   "outputs": [],
   "execution_count": null,
   "source": "",
   "id": "b84e19a39f2ff000"
  }
 ],
 "metadata": {
  "kernelspec": {
   "display_name": "Python 3",
   "language": "python",
   "name": "python3"
  },
  "language_info": {
   "codemirror_mode": {
    "name": "ipython",
    "version": 2
   },
   "file_extension": ".py",
   "mimetype": "text/x-python",
   "name": "python",
   "nbconvert_exporter": "python",
   "pygments_lexer": "ipython2",
   "version": "2.7.6"
  }
 },
 "nbformat": 4,
 "nbformat_minor": 5
}
