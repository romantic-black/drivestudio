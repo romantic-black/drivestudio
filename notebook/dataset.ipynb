{
 "cells": [
  {
   "cell_type": "code",
   "id": "initial_id",
   "metadata": {
    "collapsed": true,
    "ExecuteTime": {
     "end_time": "2024-12-13T04:11:12.928360Z",
     "start_time": "2024-12-13T03:56:46.810536Z"
    }
   },
   "source": [
    "# 运行\n",
    "\n",
    "import os\n",
    "import subprocess\n",
    "\n",
    "def preprocess_data(data_root, target_dir, dataset, scene_name):\n",
    "\n",
    "    command = [\n",
    "        \"python\", \"tools/generate_datasets.py\",\n",
    "        \"--data_root\", data_root,\n",
    "        \"--target_dir\", target_dir,\n",
    "        \"--dataset_root\", dataset,\n",
    "        \"--scene_name\", f\"{scene_name:03d}\",\n",
    "    ]\n",
    "    # 在 .. 目录下运行命令\n",
    "    subprocess.run(command, check=True, cwd=\"..\")\n",
    "\n",
    "# Example usage\n",
    "for id in [552, 621, 703, 788]:\n",
    "    try:\n",
    "        preprocess_data(\n",
    "            data_root=\"/mnt/e/Output/cam5\",\n",
    "            target_dir=\"/mnt/f/DataSet/lora/waymo\",\n",
    "            dataset=\"/mnt/f/DataSet/waymo/processed/training\",\n",
    "            scene_name=id  # 修正参数名\n",
    "        )\n",
    "    except Exception as e:\n",
    "        continue"
   ],
   "outputs": [
    {
     "name": "stderr",
     "output_type": "stream",
     "text": [
      "Loading images: 100%|██████████| 198/198 [00:05<00:00, 38.26it/s]\n"
     ]
    },
    {
     "name": "stdout",
     "output_type": "stream",
     "text": [
      "undistorting rgb\n"
     ]
    },
    {
     "name": "stderr",
     "output_type": "stream",
     "text": [
      "Loading dynamic masks: 100%|██████████| 198/198 [00:03<00:00, 62.57it/s]\n",
      "Loading human masks:   0%|          | 0/198 [00:00<?, ?it/s]"
     ]
    },
    {
     "name": "stdout",
     "output_type": "stream",
     "text": [
      "undistorting dynamic mask\n"
     ]
    },
    {
     "name": "stderr",
     "output_type": "stream",
     "text": [
      "Loading human masks: 100%|██████████| 198/198 [00:03<00:00, 64.47it/s]\n",
      "Loading vehicle masks:   0%|          | 0/198 [00:00<?, ?it/s]"
     ]
    },
    {
     "name": "stdout",
     "output_type": "stream",
     "text": [
      "undistorting human mask\n"
     ]
    },
    {
     "name": "stderr",
     "output_type": "stream",
     "text": [
      "Loading vehicle masks: 100%|██████████| 198/198 [00:03<00:00, 62.30it/s]\n",
      "Loading sky masks:   0%|          | 0/198 [00:00<?, ?it/s]"
     ]
    },
    {
     "name": "stdout",
     "output_type": "stream",
     "text": [
      "undistorting vehicle mask\n"
     ]
    },
    {
     "name": "stderr",
     "output_type": "stream",
     "text": [
      "Loading sky masks: 100%|██████████| 198/198 [00:02<00:00, 75.68it/s]\n"
     ]
    },
    {
     "name": "stdout",
     "output_type": "stream",
     "text": [
      "undistorting sky mask\n"
     ]
    },
    {
     "name": "stderr",
     "output_type": "stream",
     "text": [
      "Loading images: 100%|██████████| 198/198 [00:05<00:00, 37.54it/s]\n"
     ]
    },
    {
     "name": "stdout",
     "output_type": "stream",
     "text": [
      "undistorting rgb\n"
     ]
    },
    {
     "name": "stderr",
     "output_type": "stream",
     "text": [
      "Loading dynamic masks: 100%|██████████| 198/198 [00:03<00:00, 65.88it/s]\n",
      "Loading human masks:   0%|          | 0/198 [00:00<?, ?it/s]"
     ]
    },
    {
     "name": "stdout",
     "output_type": "stream",
     "text": [
      "undistorting dynamic mask\n"
     ]
    },
    {
     "name": "stderr",
     "output_type": "stream",
     "text": [
      "Loading human masks: 100%|██████████| 198/198 [00:00<00:00, 317.09it/s]\n",
      "Loading vehicle masks:   4%|▍         | 8/198 [00:00<00:02, 71.13it/s]"
     ]
    },
    {
     "name": "stdout",
     "output_type": "stream",
     "text": [
      "undistorting human mask\n"
     ]
    },
    {
     "name": "stderr",
     "output_type": "stream",
     "text": [
      "Loading vehicle masks: 100%|██████████| 198/198 [00:02<00:00, 72.80it/s]\n",
      "Loading sky masks:   0%|          | 0/198 [00:00<?, ?it/s]"
     ]
    },
    {
     "name": "stdout",
     "output_type": "stream",
     "text": [
      "undistorting vehicle mask\n"
     ]
    },
    {
     "name": "stderr",
     "output_type": "stream",
     "text": [
      "Loading sky masks: 100%|██████████| 198/198 [00:02<00:00, 96.47it/s] \n"
     ]
    },
    {
     "name": "stdout",
     "output_type": "stream",
     "text": [
      "undistorting sky mask\n"
     ]
    },
    {
     "name": "stderr",
     "output_type": "stream",
     "text": [
      "Loading images: 100%|██████████| 198/198 [00:05<00:00, 38.89it/s]\n"
     ]
    },
    {
     "name": "stdout",
     "output_type": "stream",
     "text": [
      "undistorting rgb\n"
     ]
    },
    {
     "name": "stderr",
     "output_type": "stream",
     "text": [
      "Loading dynamic masks: 100%|██████████| 198/198 [00:03<00:00, 62.72it/s]\n",
      "Loading human masks:   4%|▎         | 7/198 [00:00<00:03, 60.55it/s]"
     ]
    },
    {
     "name": "stdout",
     "output_type": "stream",
     "text": [
      "undistorting dynamic mask\n"
     ]
    },
    {
     "name": "stderr",
     "output_type": "stream",
     "text": [
      "Loading human masks: 100%|██████████| 198/198 [00:02<00:00, 68.47it/s]\n",
      "Loading vehicle masks:   0%|          | 0/198 [00:00<?, ?it/s]"
     ]
    },
    {
     "name": "stdout",
     "output_type": "stream",
     "text": [
      "undistorting human mask\n"
     ]
    },
    {
     "name": "stderr",
     "output_type": "stream",
     "text": [
      "Loading vehicle masks: 100%|██████████| 198/198 [00:02<00:00, 82.18it/s]\n",
      "Loading sky masks:   6%|▌         | 12/198 [00:00<00:01, 114.57it/s]"
     ]
    },
    {
     "name": "stdout",
     "output_type": "stream",
     "text": [
      "undistorting vehicle mask\n"
     ]
    },
    {
     "name": "stderr",
     "output_type": "stream",
     "text": [
      "Loading sky masks: 100%|██████████| 198/198 [00:01<00:00, 118.14it/s]\n"
     ]
    },
    {
     "name": "stdout",
     "output_type": "stream",
     "text": [
      "undistorting sky mask\n"
     ]
    },
    {
     "name": "stderr",
     "output_type": "stream",
     "text": [
      "Loading images: 100%|██████████| 198/198 [00:03<00:00, 51.42it/s]\n",
      "Loading dynamic masks:   0%|          | 0/198 [00:00<?, ?it/s]"
     ]
    },
    {
     "name": "stdout",
     "output_type": "stream",
     "text": [
      "undistorting rgb\n"
     ]
    },
    {
     "name": "stderr",
     "output_type": "stream",
     "text": [
      "Loading dynamic masks: 100%|██████████| 198/198 [00:02<00:00, 93.69it/s]\n",
      "Loading human masks:   6%|▌         | 11/198 [00:00<00:01, 102.46it/s]"
     ]
    },
    {
     "name": "stdout",
     "output_type": "stream",
     "text": [
      "undistorting dynamic mask\n"
     ]
    },
    {
     "name": "stderr",
     "output_type": "stream",
     "text": [
      "Loading human masks: 100%|██████████| 198/198 [00:01<00:00, 99.31it/s] \n",
      "Loading vehicle masks:   0%|          | 0/198 [00:00<?, ?it/s]"
     ]
    },
    {
     "name": "stdout",
     "output_type": "stream",
     "text": [
      "undistorting human mask\n"
     ]
    },
    {
     "name": "stderr",
     "output_type": "stream",
     "text": [
      "Loading vehicle masks: 100%|██████████| 198/198 [00:00<00:00, 1080.14it/s]\n",
      "Loading sky masks:   7%|▋         | 14/198 [00:00<00:01, 139.02it/s]"
     ]
    },
    {
     "name": "stdout",
     "output_type": "stream",
     "text": [
      "undistorting vehicle mask\n"
     ]
    },
    {
     "name": "stderr",
     "output_type": "stream",
     "text": [
      "Loading sky masks: 100%|██████████| 198/198 [00:01<00:00, 144.90it/s]\n"
     ]
    },
    {
     "name": "stdout",
     "output_type": "stream",
     "text": [
      "undistorting sky mask\n"
     ]
    },
    {
     "name": "stderr",
     "output_type": "stream",
     "text": [
      "Loading images: 100%|██████████| 198/198 [00:03<00:00, 50.66it/s]\n",
      "Loading dynamic masks:   0%|          | 0/198 [00:00<?, ?it/s]"
     ]
    },
    {
     "name": "stdout",
     "output_type": "stream",
     "text": [
      "undistorting rgb\n"
     ]
    },
    {
     "name": "stderr",
     "output_type": "stream",
     "text": [
      "Loading dynamic masks: 100%|██████████| 198/198 [00:02<00:00, 84.58it/s]\n"
     ]
    },
    {
     "name": "stdout",
     "output_type": "stream",
     "text": [
      "undistorting dynamic mask\n"
     ]
    },
    {
     "name": "stderr",
     "output_type": "stream",
     "text": [
      "Loading human masks: 100%|██████████| 198/198 [00:02<00:00, 92.41it/s]\n",
      "Loading vehicle masks:   0%|          | 0/198 [00:00<?, ?it/s]"
     ]
    },
    {
     "name": "stdout",
     "output_type": "stream",
     "text": [
      "undistorting human mask\n"
     ]
    },
    {
     "name": "stderr",
     "output_type": "stream",
     "text": [
      "Loading vehicle masks: 100%|██████████| 198/198 [00:01<00:00, 102.88it/s]\n",
      "Loading sky masks:   0%|          | 0/198 [00:00<?, ?it/s]"
     ]
    },
    {
     "name": "stdout",
     "output_type": "stream",
     "text": [
      "undistorting vehicle mask\n"
     ]
    },
    {
     "name": "stderr",
     "output_type": "stream",
     "text": [
      "Loading sky masks: 100%|██████████| 198/198 [00:01<00:00, 132.71it/s]\n"
     ]
    },
    {
     "name": "stdout",
     "output_type": "stream",
     "text": [
      "undistorting sky mask\n"
     ]
    },
    {
     "name": "stderr",
     "output_type": "stream",
     "text": [
      "Loading SMPL: 100%|██████████| 198/198 [00:00<00:00, 331.08it/s]\n",
      "Loading lidar:   0%|          | 0/198 [00:00<?, ?it/s]/home/a/drivestudio/datasets/waymo/waymo_sourceloader.py:411: UserWarning: The given NumPy array is not writable, and PyTorch does not support non-writable tensors. This means writing to this tensor will result in undefined behavior. You may want to copy the array to protect its data or make it writable before converting it to a tensor. This type of warning will be suppressed for the rest of this program. (Triggered internally at ../torch/csrc/utils/tensor_numpy.cpp:206.)\n",
      "  lidar_origins = torch.from_numpy(lidar_info[:, :3]).float()  # 提取原点\n",
      "Loading lidar: 100%|██████████| 198/198 [00:22<00:00,  8.72it/s]\n",
      "Projecting lidar pts on images for camera front_camera: 100%|██████████| 198/198 [00:06<00:00, 32.05it/s]\n",
      "Projecting lidar pts on images for camera front_left_camera: 100%|██████████| 198/198 [00:06<00:00, 31.89it/s]\n",
      "Projecting lidar pts on images for camera front_right_camera: 100%|██████████| 198/198 [00:06<00:00, 32.36it/s]\n",
      "Projecting lidar pts on images for camera left_camera: 100%|██████████| 198/198 [00:04<00:00, 46.07it/s]\n",
      "Projecting lidar pts on images for camera right_camera: 100%|██████████| 198/198 [00:06<00:00, 31.95it/s]\n",
      "/home/a/anaconda3/envs/drivestudio/lib/python3.9/site-packages/torchvision/models/_utils.py:208: UserWarning: The parameter 'pretrained' is deprecated since 0.13 and may be removed in the future, please use 'weights' instead.\n",
      "  warnings.warn(\n",
      "/home/a/anaconda3/envs/drivestudio/lib/python3.9/site-packages/torchvision/models/_utils.py:223: UserWarning: Arguments other than a weight enum or `None` for 'weights' are deprecated since 0.13 and may be removed in the future. The current behavior is equivalent to passing `weights=AlexNet_Weights.IMAGENET1K_V1`. You can also use `weights=AlexNet_Weights.DEFAULT` to get the most up-to-date weights.\n",
      "  warnings.warn(msg)\n",
      "rendering full: 100%|██████████| 45/45 [00:02<00:00, 15.75it/s]\n"
     ]
    },
    {
     "name": "stdout",
     "output_type": "stream",
     "text": [
      "Processed 552 007_0_00200\n",
      "Processed 552 007_1_00200\n",
      "Processed 552 007_2_00200\n",
      "Processed 552 007_3_00200\n",
      "Processed 552 007_4_00200\n",
      "Processed 552 034_0_00200\n",
      "Processed 552 034_1_00200\n",
      "Processed 552 034_2_00200\n",
      "Processed 552 034_3_00200\n",
      "Processed 552 034_4_00200\n",
      "Processed 552 068_0_00200\n",
      "Processed 552 068_1_00200\n",
      "Processed 552 068_2_00200\n",
      "Processed 552 068_3_00200\n",
      "Processed 552 068_4_00200\n",
      "Processed 552 073_0_00200\n",
      "Processed 552 073_1_00200\n",
      "Processed 552 073_2_00200\n",
      "Processed 552 073_3_00200\n",
      "Processed 552 073_4_00200\n",
      "Processed 552 084_0_00200\n",
      "Processed 552 084_1_00200\n",
      "Processed 552 084_2_00200\n",
      "Processed 552 084_3_00200\n",
      "Processed 552 084_4_00200\n",
      "Processed 552 097_0_00200\n",
      "Processed 552 097_1_00200\n",
      "Processed 552 097_2_00200\n",
      "Processed 552 097_3_00200\n",
      "Processed 552 097_4_00200\n",
      "Processed 552 109_0_00200\n",
      "Processed 552 109_1_00200\n",
      "Processed 552 109_2_00200\n",
      "Processed 552 109_3_00200\n",
      "Processed 552 109_4_00200\n",
      "Processed 552 133_0_00200\n",
      "Processed 552 133_1_00200\n",
      "Processed 552 133_2_00200\n",
      "Processed 552 133_3_00200\n",
      "Processed 552 133_4_00200\n",
      "Processed 552 142_0_00200\n",
      "Processed 552 142_1_00200\n",
      "Processed 552 142_2_00200\n",
      "Processed 552 142_3_00200\n",
      "Processed 552 142_4_00200\n"
     ]
    },
    {
     "name": "stderr",
     "output_type": "stream",
     "text": [
      "rendering full: 100%|██████████| 45/45 [00:00<00:00, 81.59it/s]\n"
     ]
    },
    {
     "name": "stdout",
     "output_type": "stream",
     "text": [
      "Processed 552 005_0_00300\n",
      "Processed 552 005_1_00300\n",
      "Processed 552 005_2_00300\n",
      "Processed 552 005_3_00300\n",
      "Processed 552 005_4_00300\n",
      "Processed 552 052_0_00300\n",
      "Processed 552 052_1_00300\n",
      "Processed 552 052_2_00300\n",
      "Processed 552 052_3_00300\n",
      "Processed 552 052_4_00300\n",
      "Processed 552 063_0_00300\n",
      "Processed 552 063_1_00300\n",
      "Processed 552 063_2_00300\n",
      "Processed 552 063_3_00300\n",
      "Processed 552 063_4_00300\n",
      "Processed 552 069_0_00300\n",
      "Processed 552 069_1_00300\n",
      "Processed 552 069_2_00300\n",
      "Processed 552 069_3_00300\n",
      "Processed 552 069_4_00300\n",
      "Processed 552 081_0_00300\n",
      "Processed 552 081_1_00300\n",
      "Processed 552 081_2_00300\n",
      "Processed 552 081_3_00300\n",
      "Processed 552 081_4_00300\n",
      "Processed 552 095_0_00300\n",
      "Processed 552 095_1_00300\n",
      "Processed 552 095_2_00300\n",
      "Processed 552 095_3_00300\n",
      "Processed 552 095_4_00300\n",
      "Processed 552 110_0_00300\n",
      "Processed 552 110_1_00300\n",
      "Processed 552 110_2_00300\n",
      "Processed 552 110_3_00300\n",
      "Processed 552 110_4_00300\n",
      "Processed 552 125_0_00300\n",
      "Processed 552 125_1_00300\n",
      "Processed 552 125_2_00300\n",
      "Processed 552 125_3_00300\n",
      "Processed 552 125_4_00300\n",
      "Processed 552 168_0_00300\n",
      "Processed 552 168_1_00300\n",
      "Processed 552 168_2_00300\n",
      "Processed 552 168_3_00300\n",
      "Processed 552 168_4_00300\n"
     ]
    },
    {
     "name": "stderr",
     "output_type": "stream",
     "text": [
      "rendering full: 100%|██████████| 45/45 [00:02<00:00, 16.42it/s]\n"
     ]
    },
    {
     "name": "stdout",
     "output_type": "stream",
     "text": [
      "Processed 552 001_0_00400\n",
      "Processed 552 001_1_00400\n",
      "Processed 552 001_2_00400\n",
      "Processed 552 001_3_00400\n",
      "Processed 552 001_4_00400\n",
      "Processed 552 051_0_00400\n",
      "Processed 552 051_1_00400\n",
      "Processed 552 051_2_00400\n",
      "Processed 552 051_3_00400\n",
      "Processed 552 051_4_00400\n",
      "Processed 552 060_0_00400\n",
      "Processed 552 060_1_00400\n",
      "Processed 552 060_2_00400\n",
      "Processed 552 060_3_00400\n",
      "Processed 552 060_4_00400\n",
      "Processed 552 080_0_00400\n",
      "Processed 552 080_1_00400\n",
      "Processed 552 080_2_00400\n",
      "Processed 552 080_3_00400\n",
      "Processed 552 080_4_00400\n",
      "Processed 552 091_0_00400\n",
      "Processed 552 091_1_00400\n",
      "Processed 552 091_2_00400\n",
      "Processed 552 091_3_00400\n",
      "Processed 552 091_4_00400\n",
      "Processed 552 105_0_00400\n",
      "Processed 552 105_1_00400\n",
      "Processed 552 105_2_00400\n",
      "Processed 552 105_3_00400\n",
      "Processed 552 105_4_00400\n",
      "Processed 552 115_0_00400\n",
      "Processed 552 115_1_00400\n",
      "Processed 552 115_2_00400\n",
      "Processed 552 115_3_00400\n",
      "Processed 552 115_4_00400\n",
      "Processed 552 128_0_00400\n",
      "Processed 552 128_1_00400\n",
      "Processed 552 128_2_00400\n",
      "Processed 552 128_3_00400\n",
      "Processed 552 128_4_00400\n",
      "Processed 552 150_0_00400\n",
      "Processed 552 150_1_00400\n",
      "Processed 552 150_2_00400\n",
      "Processed 552 150_3_00400\n",
      "Processed 552 150_4_00400\n"
     ]
    },
    {
     "name": "stderr",
     "output_type": "stream",
     "text": [
      "rendering full: 100%|██████████| 45/45 [00:02<00:00, 18.39it/s]\n"
     ]
    },
    {
     "name": "stdout",
     "output_type": "stream",
     "text": [
      "Processed 552 028_0_00500\n",
      "Processed 552 028_1_00500\n",
      "Processed 552 028_2_00500\n",
      "Processed 552 028_3_00500\n",
      "Processed 552 028_4_00500\n",
      "Processed 552 052_0_00500\n",
      "Processed 552 052_1_00500\n",
      "Processed 552 052_2_00500\n",
      "Processed 552 052_3_00500\n",
      "Processed 552 052_4_00500\n",
      "Processed 552 061_0_00500\n",
      "Processed 552 061_1_00500\n",
      "Processed 552 061_2_00500\n",
      "Processed 552 061_3_00500\n",
      "Processed 552 061_4_00500\n",
      "Processed 552 069_0_00500\n",
      "Processed 552 069_1_00500\n",
      "Processed 552 069_2_00500\n",
      "Processed 552 069_3_00500\n",
      "Processed 552 069_4_00500\n",
      "Processed 552 093_0_00500\n",
      "Processed 552 093_1_00500\n",
      "Processed 552 093_2_00500\n",
      "Processed 552 093_3_00500\n",
      "Processed 552 093_4_00500\n",
      "Processed 552 106_0_00500\n",
      "Processed 552 106_1_00500\n",
      "Processed 552 106_2_00500\n",
      "Processed 552 106_3_00500\n",
      "Processed 552 106_4_00500\n",
      "Processed 552 109_0_00500\n",
      "Processed 552 109_1_00500\n",
      "Processed 552 109_2_00500\n",
      "Processed 552 109_3_00500\n",
      "Processed 552 109_4_00500\n",
      "Processed 552 133_0_00500\n",
      "Processed 552 133_1_00500\n",
      "Processed 552 133_2_00500\n",
      "Processed 552 133_3_00500\n",
      "Processed 552 133_4_00500\n",
      "Processed 552 163_0_00500\n",
      "Processed 552 163_1_00500\n",
      "Processed 552 163_2_00500\n",
      "Processed 552 163_3_00500\n",
      "Processed 552 163_4_00500\n"
     ]
    },
    {
     "name": "stderr",
     "output_type": "stream",
     "text": [
      "Loading images: 100%|██████████| 198/198 [00:05<00:00, 37.59it/s]\n"
     ]
    },
    {
     "name": "stdout",
     "output_type": "stream",
     "text": [
      "undistorting rgb\n"
     ]
    },
    {
     "name": "stderr",
     "output_type": "stream",
     "text": [
      "Loading dynamic masks: 100%|██████████| 198/198 [00:02<00:00, 67.05it/s]\n",
      "Loading human masks:   4%|▎         | 7/198 [00:00<00:03, 62.11it/s]"
     ]
    },
    {
     "name": "stdout",
     "output_type": "stream",
     "text": [
      "undistorting dynamic mask\n"
     ]
    },
    {
     "name": "stderr",
     "output_type": "stream",
     "text": [
      "Loading human masks: 100%|██████████| 198/198 [00:03<00:00, 62.11it/s]\n",
      "Loading vehicle masks:   0%|          | 0/198 [00:00<?, ?it/s]"
     ]
    },
    {
     "name": "stdout",
     "output_type": "stream",
     "text": [
      "undistorting human mask\n"
     ]
    },
    {
     "name": "stderr",
     "output_type": "stream",
     "text": [
      "Loading vehicle masks: 100%|██████████| 198/198 [00:03<00:00, 63.49it/s]\n"
     ]
    },
    {
     "name": "stdout",
     "output_type": "stream",
     "text": [
      "undistorting vehicle mask\n"
     ]
    },
    {
     "name": "stderr",
     "output_type": "stream",
     "text": [
      "Loading sky masks: 100%|██████████| 198/198 [00:02<00:00, 81.08it/s]\n"
     ]
    },
    {
     "name": "stdout",
     "output_type": "stream",
     "text": [
      "undistorting sky mask\n"
     ]
    },
    {
     "name": "stderr",
     "output_type": "stream",
     "text": [
      "Loading images: 100%|██████████| 198/198 [00:05<00:00, 37.04it/s]\n"
     ]
    },
    {
     "name": "stdout",
     "output_type": "stream",
     "text": [
      "undistorting rgb\n"
     ]
    },
    {
     "name": "stderr",
     "output_type": "stream",
     "text": [
      "Loading dynamic masks: 100%|██████████| 198/198 [00:03<00:00, 65.72it/s]\n",
      "Loading human masks:   0%|          | 0/198 [00:00<?, ?it/s]"
     ]
    },
    {
     "name": "stdout",
     "output_type": "stream",
     "text": [
      "undistorting dynamic mask\n"
     ]
    },
    {
     "name": "stderr",
     "output_type": "stream",
     "text": [
      "Loading human masks: 100%|██████████| 198/198 [00:03<00:00, 61.78it/s]\n"
     ]
    },
    {
     "name": "stdout",
     "output_type": "stream",
     "text": [
      "undistorting human mask\n"
     ]
    },
    {
     "name": "stderr",
     "output_type": "stream",
     "text": [
      "Loading vehicle masks: 100%|██████████| 198/198 [00:02<00:00, 68.21it/s]\n"
     ]
    },
    {
     "name": "stdout",
     "output_type": "stream",
     "text": [
      "undistorting vehicle mask\n"
     ]
    },
    {
     "name": "stderr",
     "output_type": "stream",
     "text": [
      "Loading sky masks: 100%|██████████| 198/198 [00:01<00:00, 100.83it/s]\n"
     ]
    },
    {
     "name": "stdout",
     "output_type": "stream",
     "text": [
      "undistorting sky mask\n"
     ]
    },
    {
     "name": "stderr",
     "output_type": "stream",
     "text": [
      "Loading images: 100%|██████████| 198/198 [00:05<00:00, 33.34it/s]\n"
     ]
    },
    {
     "name": "stdout",
     "output_type": "stream",
     "text": [
      "undistorting rgb\n"
     ]
    },
    {
     "name": "stderr",
     "output_type": "stream",
     "text": [
      "Loading dynamic masks: 100%|██████████| 198/198 [00:03<00:00, 59.82it/s]\n",
      "Loading human masks:   3%|▎         | 6/198 [00:00<00:03, 59.72it/s]"
     ]
    },
    {
     "name": "stdout",
     "output_type": "stream",
     "text": [
      "undistorting dynamic mask\n"
     ]
    },
    {
     "name": "stderr",
     "output_type": "stream",
     "text": [
      "Loading human masks: 100%|██████████| 198/198 [00:03<00:00, 65.08it/s]\n",
      "Loading vehicle masks:   0%|          | 0/198 [00:00<?, ?it/s]"
     ]
    },
    {
     "name": "stdout",
     "output_type": "stream",
     "text": [
      "undistorting human mask\n"
     ]
    },
    {
     "name": "stderr",
     "output_type": "stream",
     "text": [
      "Loading vehicle masks: 100%|██████████| 198/198 [00:00<00:00, 299.95it/s]\n",
      "Loading sky masks:   7%|▋         | 14/198 [00:00<00:01, 129.32it/s]"
     ]
    },
    {
     "name": "stdout",
     "output_type": "stream",
     "text": [
      "undistorting vehicle mask\n"
     ]
    },
    {
     "name": "stderr",
     "output_type": "stream",
     "text": [
      "Loading sky masks: 100%|██████████| 198/198 [00:01<00:00, 127.74it/s]\n"
     ]
    },
    {
     "name": "stdout",
     "output_type": "stream",
     "text": [
      "undistorting sky mask\n"
     ]
    },
    {
     "name": "stderr",
     "output_type": "stream",
     "text": [
      "Loading images: 100%|██████████| 198/198 [00:03<00:00, 52.16it/s]\n"
     ]
    },
    {
     "name": "stdout",
     "output_type": "stream",
     "text": [
      "undistorting rgb\n"
     ]
    },
    {
     "name": "stderr",
     "output_type": "stream",
     "text": [
      "Loading dynamic masks: 100%|██████████| 198/198 [00:02<00:00, 93.68it/s] \n"
     ]
    },
    {
     "name": "stdout",
     "output_type": "stream",
     "text": [
      "undistorting dynamic mask\n"
     ]
    },
    {
     "name": "stderr",
     "output_type": "stream",
     "text": [
      "Loading human masks: 100%|██████████| 198/198 [00:02<00:00, 98.35it/s] \n",
      "Loading vehicle masks:   6%|▌         | 11/198 [00:00<00:01, 103.75it/s]"
     ]
    },
    {
     "name": "stdout",
     "output_type": "stream",
     "text": [
      "undistorting human mask\n"
     ]
    },
    {
     "name": "stderr",
     "output_type": "stream",
     "text": [
      "Loading vehicle masks: 100%|██████████| 198/198 [00:01<00:00, 99.04it/s] \n",
      "Loading sky masks:   5%|▍         | 9/198 [00:00<00:02, 88.82it/s]"
     ]
    },
    {
     "name": "stdout",
     "output_type": "stream",
     "text": [
      "undistorting vehicle mask\n"
     ]
    },
    {
     "name": "stderr",
     "output_type": "stream",
     "text": [
      "Loading sky masks: 100%|██████████| 198/198 [00:01<00:00, 105.93it/s]\n"
     ]
    },
    {
     "name": "stdout",
     "output_type": "stream",
     "text": [
      "undistorting sky mask\n"
     ]
    },
    {
     "name": "stderr",
     "output_type": "stream",
     "text": [
      "Loading images: 100%|██████████| 198/198 [00:03<00:00, 50.91it/s]\n"
     ]
    },
    {
     "name": "stdout",
     "output_type": "stream",
     "text": [
      "undistorting rgb\n"
     ]
    },
    {
     "name": "stderr",
     "output_type": "stream",
     "text": [
      "Loading dynamic masks: 100%|██████████| 198/198 [00:02<00:00, 75.92it/s]\n",
      "Loading human masks:   0%|          | 0/198 [00:00<?, ?it/s]"
     ]
    },
    {
     "name": "stdout",
     "output_type": "stream",
     "text": [
      "undistorting dynamic mask\n"
     ]
    },
    {
     "name": "stderr",
     "output_type": "stream",
     "text": [
      "Loading human masks: 100%|██████████| 198/198 [00:02<00:00, 86.31it/s]\n",
      "Loading vehicle masks:   0%|          | 0/198 [00:00<?, ?it/s]"
     ]
    },
    {
     "name": "stdout",
     "output_type": "stream",
     "text": [
      "undistorting human mask\n"
     ]
    },
    {
     "name": "stderr",
     "output_type": "stream",
     "text": [
      "Loading vehicle masks: 100%|██████████| 198/198 [00:02<00:00, 92.98it/s] \n",
      "Loading sky masks:   8%|▊         | 16/198 [00:00<00:01, 151.03it/s]"
     ]
    },
    {
     "name": "stdout",
     "output_type": "stream",
     "text": [
      "undistorting vehicle mask\n"
     ]
    },
    {
     "name": "stderr",
     "output_type": "stream",
     "text": [
      "Loading sky masks: 100%|██████████| 198/198 [00:01<00:00, 147.16it/s]\n"
     ]
    },
    {
     "name": "stdout",
     "output_type": "stream",
     "text": [
      "undistorting sky mask\n"
     ]
    },
    {
     "name": "stderr",
     "output_type": "stream",
     "text": [
      "Loading SMPL: 100%|██████████| 198/198 [00:00<00:00, 260.61it/s]\n",
      "Loading lidar:   0%|          | 0/198 [00:00<?, ?it/s]/home/a/drivestudio/datasets/waymo/waymo_sourceloader.py:411: UserWarning: The given NumPy array is not writable, and PyTorch does not support non-writable tensors. This means writing to this tensor will result in undefined behavior. You may want to copy the array to protect its data or make it writable before converting it to a tensor. This type of warning will be suppressed for the rest of this program. (Triggered internally at ../torch/csrc/utils/tensor_numpy.cpp:206.)\n",
      "  lidar_origins = torch.from_numpy(lidar_info[:, :3]).float()  # 提取原点\n",
      "Loading lidar: 100%|██████████| 198/198 [00:24<00:00,  7.99it/s]\n",
      "Projecting lidar pts on images for camera front_camera: 100%|██████████| 198/198 [00:04<00:00, 47.45it/s]\n",
      "Projecting lidar pts on images for camera front_left_camera: 100%|██████████| 198/198 [00:06<00:00, 32.54it/s]\n",
      "Projecting lidar pts on images for camera front_right_camera: 100%|██████████| 198/198 [00:06<00:00, 31.51it/s]\n",
      "Projecting lidar pts on images for camera left_camera: 100%|██████████| 198/198 [00:06<00:00, 30.76it/s]\n",
      "Projecting lidar pts on images for camera right_camera: 100%|██████████| 198/198 [00:06<00:00, 32.89it/s]\n",
      "/home/a/anaconda3/envs/drivestudio/lib/python3.9/site-packages/torchvision/models/_utils.py:208: UserWarning: The parameter 'pretrained' is deprecated since 0.13 and may be removed in the future, please use 'weights' instead.\n",
      "  warnings.warn(\n",
      "/home/a/anaconda3/envs/drivestudio/lib/python3.9/site-packages/torchvision/models/_utils.py:223: UserWarning: Arguments other than a weight enum or `None` for 'weights' are deprecated since 0.13 and may be removed in the future. The current behavior is equivalent to passing `weights=AlexNet_Weights.IMAGENET1K_V1`. You can also use `weights=AlexNet_Weights.DEFAULT` to get the most up-to-date weights.\n",
      "  warnings.warn(msg)\n",
      "rendering full: 100%|██████████| 20/20 [00:01<00:00, 15.42it/s]\n"
     ]
    },
    {
     "name": "stdout",
     "output_type": "stream",
     "text": [
      "Processed 621 028_0_00200\n",
      "Processed 621 028_1_00200\n",
      "Processed 621 028_2_00200\n",
      "Processed 621 028_3_00200\n",
      "Processed 621 028_4_00200\n",
      "Processed 621 161_0_00200\n",
      "Processed 621 161_1_00200\n",
      "Processed 621 161_2_00200\n",
      "Processed 621 161_3_00200\n",
      "Processed 621 161_4_00200\n",
      "Processed 621 184_0_00200\n",
      "Processed 621 184_1_00200\n",
      "Processed 621 184_2_00200\n",
      "Processed 621 184_3_00200\n",
      "Processed 621 184_4_00200\n",
      "Processed 621 189_0_00200\n",
      "Processed 621 189_1_00200\n",
      "Processed 621 189_2_00200\n",
      "Processed 621 189_3_00200\n",
      "Processed 621 189_4_00200\n"
     ]
    },
    {
     "name": "stderr",
     "output_type": "stream",
     "text": [
      "rendering full: 100%|██████████| 20/20 [00:01<00:00, 15.20it/s]\n"
     ]
    },
    {
     "name": "stdout",
     "output_type": "stream",
     "text": [
      "Processed 621 062_0_00300\n",
      "Processed 621 062_1_00300\n",
      "Processed 621 062_2_00300\n",
      "Processed 621 062_3_00300\n",
      "Processed 621 062_4_00300\n",
      "Processed 621 164_0_00300\n",
      "Processed 621 164_1_00300\n",
      "Processed 621 164_2_00300\n",
      "Processed 621 164_3_00300\n",
      "Processed 621 164_4_00300\n",
      "Processed 621 175_0_00300\n",
      "Processed 621 175_1_00300\n",
      "Processed 621 175_2_00300\n",
      "Processed 621 175_3_00300\n",
      "Processed 621 175_4_00300\n",
      "Processed 621 196_0_00300\n",
      "Processed 621 196_1_00300\n",
      "Processed 621 196_2_00300\n",
      "Processed 621 196_3_00300\n",
      "Processed 621 196_4_00300\n"
     ]
    },
    {
     "name": "stderr",
     "output_type": "stream",
     "text": [
      "rendering full: 100%|██████████| 20/20 [00:01<00:00, 17.55it/s]\n"
     ]
    },
    {
     "name": "stdout",
     "output_type": "stream",
     "text": [
      "Processed 621 026_0_00400\n",
      "Processed 621 026_1_00400\n",
      "Processed 621 026_2_00400\n",
      "Processed 621 026_3_00400\n",
      "Processed 621 026_4_00400\n",
      "Processed 621 171_0_00400\n",
      "Processed 621 171_1_00400\n",
      "Processed 621 171_2_00400\n",
      "Processed 621 171_3_00400\n",
      "Processed 621 171_4_00400\n",
      "Processed 621 184_0_00400\n",
      "Processed 621 184_1_00400\n",
      "Processed 621 184_2_00400\n",
      "Processed 621 184_3_00400\n",
      "Processed 621 184_4_00400\n",
      "Processed 621 193_0_00400\n",
      "Processed 621 193_1_00400\n",
      "Processed 621 193_2_00400\n",
      "Processed 621 193_3_00400\n",
      "Processed 621 193_4_00400\n"
     ]
    },
    {
     "name": "stderr",
     "output_type": "stream",
     "text": [
      "rendering full: 100%|██████████| 20/20 [00:01<00:00, 16.98it/s]\n"
     ]
    },
    {
     "name": "stdout",
     "output_type": "stream",
     "text": [
      "Processed 621 022_0_00500\n",
      "Processed 621 022_1_00500\n",
      "Processed 621 022_2_00500\n",
      "Processed 621 022_3_00500\n",
      "Processed 621 022_4_00500\n",
      "Processed 621 170_0_00500\n",
      "Processed 621 170_1_00500\n",
      "Processed 621 170_2_00500\n",
      "Processed 621 170_3_00500\n",
      "Processed 621 170_4_00500\n",
      "Processed 621 179_0_00500\n",
      "Processed 621 179_1_00500\n",
      "Processed 621 179_2_00500\n",
      "Processed 621 179_3_00500\n",
      "Processed 621 179_4_00500\n",
      "Processed 621 185_0_00500\n",
      "Processed 621 185_1_00500\n",
      "Processed 621 185_2_00500\n",
      "Processed 621 185_3_00500\n",
      "Processed 621 185_4_00500\n"
     ]
    },
    {
     "name": "stderr",
     "output_type": "stream",
     "text": [
      "Loading images: 100%|██████████| 199/199 [00:03<00:00, 62.58it/s] \n"
     ]
    },
    {
     "name": "stdout",
     "output_type": "stream",
     "text": [
      "undistorting rgb\n"
     ]
    },
    {
     "name": "stderr",
     "output_type": "stream",
     "text": [
      "Loading dynamic masks: 100%|██████████| 199/199 [00:03<00:00, 59.68it/s]\n"
     ]
    },
    {
     "name": "stdout",
     "output_type": "stream",
     "text": [
      "undistorting dynamic mask\n"
     ]
    },
    {
     "name": "stderr",
     "output_type": "stream",
     "text": [
      "Loading human masks: 100%|██████████| 199/199 [00:03<00:00, 64.15it/s]\n",
      "Loading vehicle masks:   3%|▎         | 6/199 [00:00<00:03, 54.89it/s]"
     ]
    },
    {
     "name": "stdout",
     "output_type": "stream",
     "text": [
      "undistorting human mask\n"
     ]
    },
    {
     "name": "stderr",
     "output_type": "stream",
     "text": [
      "Loading vehicle masks: 100%|██████████| 199/199 [00:03<00:00, 60.44it/s]\n",
      "Loading sky masks:   0%|          | 0/199 [00:00<?, ?it/s]"
     ]
    },
    {
     "name": "stdout",
     "output_type": "stream",
     "text": [
      "undistorting vehicle mask\n"
     ]
    },
    {
     "name": "stderr",
     "output_type": "stream",
     "text": [
      "Loading sky masks: 100%|██████████| 199/199 [00:02<00:00, 77.57it/s]\n"
     ]
    },
    {
     "name": "stdout",
     "output_type": "stream",
     "text": [
      "undistorting sky mask\n"
     ]
    },
    {
     "name": "stderr",
     "output_type": "stream",
     "text": [
      "Loading images: 100%|██████████| 199/199 [00:06<00:00, 32.29it/s]\n"
     ]
    },
    {
     "name": "stdout",
     "output_type": "stream",
     "text": [
      "undistorting rgb\n"
     ]
    },
    {
     "name": "stderr",
     "output_type": "stream",
     "text": [
      "Loading dynamic masks: 100%|██████████| 199/199 [00:03<00:00, 61.05it/s]\n"
     ]
    },
    {
     "name": "stdout",
     "output_type": "stream",
     "text": [
      "undistorting dynamic mask\n"
     ]
    },
    {
     "name": "stderr",
     "output_type": "stream",
     "text": [
      "Loading human masks: 100%|██████████| 199/199 [00:03<00:00, 59.90it/s]\n"
     ]
    },
    {
     "name": "stdout",
     "output_type": "stream",
     "text": [
      "undistorting human mask\n"
     ]
    },
    {
     "name": "stderr",
     "output_type": "stream",
     "text": [
      "Loading vehicle masks: 100%|██████████| 199/199 [00:01<00:00, 162.49it/s]\n",
      "Loading sky masks:   5%|▍         | 9/199 [00:00<00:02, 87.53it/s]"
     ]
    },
    {
     "name": "stdout",
     "output_type": "stream",
     "text": [
      "undistorting vehicle mask\n"
     ]
    },
    {
     "name": "stderr",
     "output_type": "stream",
     "text": [
      "Loading sky masks: 100%|██████████| 199/199 [00:02<00:00, 90.07it/s]\n"
     ]
    },
    {
     "name": "stdout",
     "output_type": "stream",
     "text": [
      "undistorting sky mask\n"
     ]
    },
    {
     "name": "stderr",
     "output_type": "stream",
     "text": [
      "Loading images: 100%|██████████| 199/199 [00:05<00:00, 38.15it/s]\n"
     ]
    },
    {
     "name": "stdout",
     "output_type": "stream",
     "text": [
      "undistorting rgb\n"
     ]
    },
    {
     "name": "stderr",
     "output_type": "stream",
     "text": [
      "Loading dynamic masks: 100%|██████████| 199/199 [00:03<00:00, 66.29it/s]\n",
      "Loading human masks:   5%|▍         | 9/199 [00:00<00:02, 82.51it/s]"
     ]
    },
    {
     "name": "stdout",
     "output_type": "stream",
     "text": [
      "undistorting dynamic mask\n"
     ]
    },
    {
     "name": "stderr",
     "output_type": "stream",
     "text": [
      "Loading human masks: 100%|██████████| 199/199 [00:03<00:00, 65.65it/s]\n"
     ]
    },
    {
     "name": "stdout",
     "output_type": "stream",
     "text": [
      "undistorting human mask\n"
     ]
    },
    {
     "name": "stderr",
     "output_type": "stream",
     "text": [
      "Loading vehicle masks: 100%|██████████| 199/199 [00:02<00:00, 70.24it/s]\n",
      "Loading sky masks:   0%|          | 0/199 [00:00<?, ?it/s]"
     ]
    },
    {
     "name": "stdout",
     "output_type": "stream",
     "text": [
      "undistorting vehicle mask\n"
     ]
    },
    {
     "name": "stderr",
     "output_type": "stream",
     "text": [
      "Loading sky masks: 100%|██████████| 199/199 [00:02<00:00, 84.88it/s]\n"
     ]
    },
    {
     "name": "stdout",
     "output_type": "stream",
     "text": [
      "undistorting sky mask\n"
     ]
    },
    {
     "name": "stderr",
     "output_type": "stream",
     "text": [
      "Loading images: 100%|██████████| 199/199 [00:03<00:00, 51.96it/s]\n"
     ]
    },
    {
     "name": "stdout",
     "output_type": "stream",
     "text": [
      "undistorting rgb\n"
     ]
    },
    {
     "name": "stderr",
     "output_type": "stream",
     "text": [
      "Loading dynamic masks: 100%|██████████| 199/199 [00:02<00:00, 86.40it/s]\n",
      "Loading human masks:   0%|          | 0/199 [00:00<?, ?it/s]"
     ]
    },
    {
     "name": "stdout",
     "output_type": "stream",
     "text": [
      "undistorting dynamic mask\n"
     ]
    },
    {
     "name": "stderr",
     "output_type": "stream",
     "text": [
      "Loading human masks: 100%|██████████| 199/199 [00:01<00:00, 101.42it/s]\n",
      "Loading vehicle masks:   0%|          | 0/199 [00:00<?, ?it/s]"
     ]
    },
    {
     "name": "stdout",
     "output_type": "stream",
     "text": [
      "undistorting human mask\n"
     ]
    },
    {
     "name": "stderr",
     "output_type": "stream",
     "text": [
      "Loading vehicle masks: 100%|██████████| 199/199 [00:02<00:00, 99.10it/s] \n",
      "Loading sky masks:   8%|▊         | 15/199 [00:00<00:01, 145.03it/s]"
     ]
    },
    {
     "name": "stdout",
     "output_type": "stream",
     "text": [
      "undistorting vehicle mask\n"
     ]
    },
    {
     "name": "stderr",
     "output_type": "stream",
     "text": [
      "Loading sky masks: 100%|██████████| 199/199 [00:00<00:00, -288.00it/s]\n"
     ]
    },
    {
     "name": "stdout",
     "output_type": "stream",
     "text": [
      "undistorting sky mask\n"
     ]
    },
    {
     "name": "stderr",
     "output_type": "stream",
     "text": [
      "Loading images: 100%|██████████| 199/199 [00:03<00:00, 51.54it/s]\n"
     ]
    },
    {
     "name": "stdout",
     "output_type": "stream",
     "text": [
      "undistorting rgb\n"
     ]
    },
    {
     "name": "stderr",
     "output_type": "stream",
     "text": [
      "Loading dynamic masks: 100%|██████████| 199/199 [00:02<00:00, 91.79it/s]\n"
     ]
    },
    {
     "name": "stdout",
     "output_type": "stream",
     "text": [
      "undistorting dynamic mask\n"
     ]
    },
    {
     "name": "stderr",
     "output_type": "stream",
     "text": [
      "Loading human masks: 100%|██████████| 199/199 [00:02<00:00, 99.34it/s] \n",
      "Loading vehicle masks:   0%|          | 0/199 [00:00<?, ?it/s]"
     ]
    },
    {
     "name": "stdout",
     "output_type": "stream",
     "text": [
      "undistorting human mask\n"
     ]
    },
    {
     "name": "stderr",
     "output_type": "stream",
     "text": [
      "Loading vehicle masks: 100%|██████████| 199/199 [00:01<00:00, 106.49it/s]\n",
      "Loading sky masks:   0%|          | 0/199 [00:00<?, ?it/s]"
     ]
    },
    {
     "name": "stdout",
     "output_type": "stream",
     "text": [
      "undistorting vehicle mask\n"
     ]
    },
    {
     "name": "stderr",
     "output_type": "stream",
     "text": [
      "Loading sky masks: 100%|██████████| 199/199 [00:01<00:00, 107.88it/s]\n"
     ]
    },
    {
     "name": "stdout",
     "output_type": "stream",
     "text": [
      "undistorting sky mask\n"
     ]
    },
    {
     "name": "stderr",
     "output_type": "stream",
     "text": [
      "Loading SMPL: 100%|██████████| 199/199 [00:00<00:00, 242.96it/s]\n",
      "Loading lidar:   0%|          | 0/199 [00:00<?, ?it/s]/home/a/drivestudio/datasets/waymo/waymo_sourceloader.py:411: UserWarning: The given NumPy array is not writable, and PyTorch does not support non-writable tensors. This means writing to this tensor will result in undefined behavior. You may want to copy the array to protect its data or make it writable before converting it to a tensor. This type of warning will be suppressed for the rest of this program. (Triggered internally at ../torch/csrc/utils/tensor_numpy.cpp:206.)\n",
      "  lidar_origins = torch.from_numpy(lidar_info[:, :3]).float()  # 提取原点\n",
      "Loading lidar: 100%|██████████| 199/199 [00:22<00:00,  8.77it/s]\n",
      "Projecting lidar pts on images for camera front_camera: 100%|██████████| 199/199 [00:05<00:00, 35.44it/s]\n",
      "Projecting lidar pts on images for camera front_left_camera: 100%|██████████| 199/199 [00:05<00:00, 35.14it/s]\n",
      "Projecting lidar pts on images for camera front_right_camera: 100%|██████████| 199/199 [00:05<00:00, 34.95it/s]\n",
      "Projecting lidar pts on images for camera left_camera: 100%|██████████| 199/199 [00:03<00:00, 58.14it/s]\n",
      "Projecting lidar pts on images for camera right_camera: 100%|██████████| 199/199 [00:06<00:00, 32.00it/s]\n",
      "/home/a/anaconda3/envs/drivestudio/lib/python3.9/site-packages/torchvision/models/_utils.py:208: UserWarning: The parameter 'pretrained' is deprecated since 0.13 and may be removed in the future, please use 'weights' instead.\n",
      "  warnings.warn(\n",
      "/home/a/anaconda3/envs/drivestudio/lib/python3.9/site-packages/torchvision/models/_utils.py:223: UserWarning: Arguments other than a weight enum or `None` for 'weights' are deprecated since 0.13 and may be removed in the future. The current behavior is equivalent to passing `weights=AlexNet_Weights.IMAGENET1K_V1`. You can also use `weights=AlexNet_Weights.DEFAULT` to get the most up-to-date weights.\n",
      "  warnings.warn(msg)\n",
      "rendering full: 0it [00:00, ?it/s]\n",
      "rendering full: 0it [00:00, ?it/s]\n",
      "rendering full: 0it [00:00, ?it/s]\n",
      "rendering full: 0it [00:00, ?it/s]\n",
      "Loading images: 100%|██████████| 199/199 [00:05<00:00, 36.38it/s]\n"
     ]
    },
    {
     "name": "stdout",
     "output_type": "stream",
     "text": [
      "undistorting rgb\n"
     ]
    },
    {
     "name": "stderr",
     "output_type": "stream",
     "text": [
      "Loading dynamic masks: 100%|██████████| 199/199 [00:03<00:00, 63.93it/s]\n",
      "Loading human masks:   4%|▍         | 8/199 [00:00<00:02, 71.49it/s]"
     ]
    },
    {
     "name": "stdout",
     "output_type": "stream",
     "text": [
      "undistorting dynamic mask\n"
     ]
    },
    {
     "name": "stderr",
     "output_type": "stream",
     "text": [
      "Loading human masks: 100%|██████████| 199/199 [00:03<00:00, 62.95it/s]\n",
      "Loading vehicle masks:   0%|          | 0/199 [00:00<?, ?it/s]"
     ]
    },
    {
     "name": "stdout",
     "output_type": "stream",
     "text": [
      "undistorting human mask\n"
     ]
    },
    {
     "name": "stderr",
     "output_type": "stream",
     "text": [
      "Loading vehicle masks: 100%|██████████| 199/199 [00:01<00:00, 157.40it/s] \n",
      "Loading sky masks:   5%|▍         | 9/199 [00:00<00:02, 79.88it/s]"
     ]
    },
    {
     "name": "stdout",
     "output_type": "stream",
     "text": [
      "undistorting vehicle mask\n"
     ]
    },
    {
     "name": "stderr",
     "output_type": "stream",
     "text": [
      "Loading sky masks: 100%|██████████| 199/199 [00:02<00:00, 86.96it/s]\n"
     ]
    },
    {
     "name": "stdout",
     "output_type": "stream",
     "text": [
      "undistorting sky mask\n"
     ]
    },
    {
     "name": "stderr",
     "output_type": "stream",
     "text": [
      "Loading images: 100%|██████████| 199/199 [00:05<00:00, 35.59it/s]\n"
     ]
    },
    {
     "name": "stdout",
     "output_type": "stream",
     "text": [
      "undistorting rgb\n"
     ]
    },
    {
     "name": "stderr",
     "output_type": "stream",
     "text": [
      "Loading dynamic masks: 100%|██████████| 199/199 [00:03<00:00, 65.68it/s]\n",
      "Loading human masks:   4%|▍         | 8/199 [00:00<00:02, 74.55it/s]"
     ]
    },
    {
     "name": "stdout",
     "output_type": "stream",
     "text": [
      "undistorting dynamic mask\n"
     ]
    },
    {
     "name": "stderr",
     "output_type": "stream",
     "text": [
      "Loading human masks: 100%|██████████| 199/199 [00:03<00:00, 65.69it/s]\n",
      "Loading vehicle masks:   0%|          | 0/199 [00:00<?, ?it/s]"
     ]
    },
    {
     "name": "stdout",
     "output_type": "stream",
     "text": [
      "undistorting human mask\n"
     ]
    },
    {
     "name": "stderr",
     "output_type": "stream",
     "text": [
      "Loading vehicle masks: 100%|██████████| 199/199 [00:02<00:00, 71.30it/s]\n",
      "Loading sky masks:   0%|          | 0/199 [00:00<?, ?it/s]"
     ]
    },
    {
     "name": "stdout",
     "output_type": "stream",
     "text": [
      "undistorting vehicle mask\n"
     ]
    },
    {
     "name": "stderr",
     "output_type": "stream",
     "text": [
      "Loading sky masks: 100%|██████████| 199/199 [00:01<00:00, 104.24it/s]\n"
     ]
    },
    {
     "name": "stdout",
     "output_type": "stream",
     "text": [
      "undistorting sky mask\n"
     ]
    },
    {
     "name": "stderr",
     "output_type": "stream",
     "text": [
      "Loading images: 100%|██████████| 199/199 [00:05<00:00, 37.80it/s]\n"
     ]
    },
    {
     "name": "stdout",
     "output_type": "stream",
     "text": [
      "undistorting rgb\n"
     ]
    },
    {
     "name": "stderr",
     "output_type": "stream",
     "text": [
      "Loading dynamic masks: 100%|██████████| 199/199 [00:03<00:00, 62.84it/s]\n"
     ]
    },
    {
     "name": "stdout",
     "output_type": "stream",
     "text": [
      "undistorting dynamic mask\n"
     ]
    },
    {
     "name": "stderr",
     "output_type": "stream",
     "text": [
      "Loading human masks: 100%|██████████| 199/199 [00:00<00:00, 238.52it/s]\n",
      "Loading vehicle masks:   5%|▍         | 9/199 [00:00<00:02, 82.63it/s]"
     ]
    },
    {
     "name": "stdout",
     "output_type": "stream",
     "text": [
      "undistorting human mask\n"
     ]
    },
    {
     "name": "stderr",
     "output_type": "stream",
     "text": [
      "Loading vehicle masks: 100%|██████████| 199/199 [00:02<00:00, 75.94it/s]\n",
      "Loading sky masks:   7%|▋         | 13/199 [00:00<00:01, 129.30it/s]"
     ]
    },
    {
     "name": "stdout",
     "output_type": "stream",
     "text": [
      "undistorting vehicle mask\n"
     ]
    },
    {
     "name": "stderr",
     "output_type": "stream",
     "text": [
      "Loading sky masks: 100%|██████████| 199/199 [00:01<00:00, 101.06it/s]\n"
     ]
    },
    {
     "name": "stdout",
     "output_type": "stream",
     "text": [
      "undistorting sky mask\n"
     ]
    },
    {
     "name": "stderr",
     "output_type": "stream",
     "text": [
      "Loading images: 100%|██████████| 199/199 [00:03<00:00, 52.41it/s]\n",
      "Loading dynamic masks:   0%|          | 0/199 [00:00<?, ?it/s]"
     ]
    },
    {
     "name": "stdout",
     "output_type": "stream",
     "text": [
      "undistorting rgb\n"
     ]
    },
    {
     "name": "stderr",
     "output_type": "stream",
     "text": [
      "Loading dynamic masks: 100%|██████████| 199/199 [00:02<00:00, 80.02it/s]\n",
      "Loading human masks:   0%|          | 0/199 [00:00<?, ?it/s]"
     ]
    },
    {
     "name": "stdout",
     "output_type": "stream",
     "text": [
      "undistorting dynamic mask\n"
     ]
    },
    {
     "name": "stderr",
     "output_type": "stream",
     "text": [
      "Loading human masks: 100%|██████████| 199/199 [00:01<00:00, 102.09it/s]\n",
      "Loading vehicle masks:   0%|          | 0/199 [00:00<?, ?it/s]"
     ]
    },
    {
     "name": "stdout",
     "output_type": "stream",
     "text": [
      "undistorting human mask\n"
     ]
    },
    {
     "name": "stderr",
     "output_type": "stream",
     "text": [
      "Loading vehicle masks: 100%|██████████| 199/199 [00:01<00:00, 105.63it/s]\n",
      "Loading sky masks:   8%|▊         | 16/199 [00:00<00:01, 150.31it/s]"
     ]
    },
    {
     "name": "stdout",
     "output_type": "stream",
     "text": [
      "undistorting vehicle mask\n"
     ]
    },
    {
     "name": "stderr",
     "output_type": "stream",
     "text": [
      "Loading sky masks: 100%|██████████| 199/199 [00:01<00:00, 144.83it/s]\n"
     ]
    },
    {
     "name": "stdout",
     "output_type": "stream",
     "text": [
      "undistorting sky mask\n"
     ]
    },
    {
     "name": "stderr",
     "output_type": "stream",
     "text": [
      "Loading images: 100%|██████████| 199/199 [00:03<00:00, 53.20it/s]\n"
     ]
    },
    {
     "name": "stdout",
     "output_type": "stream",
     "text": [
      "undistorting rgb\n"
     ]
    },
    {
     "name": "stderr",
     "output_type": "stream",
     "text": [
      "Loading dynamic masks: 100%|██████████| 199/199 [00:02<00:00, 89.12it/s]\n",
      "Loading human masks:   6%|▌         | 11/199 [00:00<00:01, 101.09it/s]"
     ]
    },
    {
     "name": "stdout",
     "output_type": "stream",
     "text": [
      "undistorting dynamic mask\n"
     ]
    },
    {
     "name": "stderr",
     "output_type": "stream",
     "text": [
      "Loading human masks: 100%|██████████| 199/199 [00:01<00:00, 101.33it/s]\n",
      "Loading vehicle masks:   0%|          | 0/199 [00:00<?, ?it/s]"
     ]
    },
    {
     "name": "stdout",
     "output_type": "stream",
     "text": [
      "undistorting human mask\n"
     ]
    },
    {
     "name": "stderr",
     "output_type": "stream",
     "text": [
      "Loading vehicle masks: 100%|██████████| 199/199 [00:01<00:00, 108.93it/s]\n"
     ]
    },
    {
     "name": "stdout",
     "output_type": "stream",
     "text": [
      "undistorting vehicle mask\n"
     ]
    },
    {
     "name": "stderr",
     "output_type": "stream",
     "text": [
      "Loading sky masks: 100%|██████████| 199/199 [00:01<00:00, 136.48it/s]\n"
     ]
    },
    {
     "name": "stdout",
     "output_type": "stream",
     "text": [
      "undistorting sky mask\n"
     ]
    },
    {
     "name": "stderr",
     "output_type": "stream",
     "text": [
      "Loading SMPL: 100%|██████████| 199/199 [00:00<00:00, 280.13it/s]\n",
      "Loading lidar:   0%|          | 0/199 [00:00<?, ?it/s]/home/a/drivestudio/datasets/waymo/waymo_sourceloader.py:411: UserWarning: The given NumPy array is not writable, and PyTorch does not support non-writable tensors. This means writing to this tensor will result in undefined behavior. You may want to copy the array to protect its data or make it writable before converting it to a tensor. This type of warning will be suppressed for the rest of this program. (Triggered internally at ../torch/csrc/utils/tensor_numpy.cpp:206.)\n",
      "  lidar_origins = torch.from_numpy(lidar_info[:, :3]).float()  # 提取原点\n",
      "Loading lidar: 100%|██████████| 199/199 [00:24<00:00,  8.13it/s]\n",
      "Projecting lidar pts on images for camera front_camera: 100%|██████████| 199/199 [00:03<00:00, 54.41it/s] \n",
      "Projecting lidar pts on images for camera front_left_camera: 100%|██████████| 199/199 [00:05<00:00, 34.72it/s]\n",
      "Projecting lidar pts on images for camera front_right_camera: 100%|██████████| 199/199 [00:05<00:00, 34.79it/s]\n",
      "Projecting lidar pts on images for camera left_camera: 100%|██████████| 199/199 [00:05<00:00, 35.00it/s]\n",
      "Projecting lidar pts on images for camera right_camera: 100%|██████████| 199/199 [00:05<00:00, 33.80it/s]\n",
      "/home/a/anaconda3/envs/drivestudio/lib/python3.9/site-packages/torchvision/models/_utils.py:208: UserWarning: The parameter 'pretrained' is deprecated since 0.13 and may be removed in the future, please use 'weights' instead.\n",
      "  warnings.warn(\n",
      "/home/a/anaconda3/envs/drivestudio/lib/python3.9/site-packages/torchvision/models/_utils.py:223: UserWarning: Arguments other than a weight enum or `None` for 'weights' are deprecated since 0.13 and may be removed in the future. The current behavior is equivalent to passing `weights=AlexNet_Weights.IMAGENET1K_V1`. You can also use `weights=AlexNet_Weights.DEFAULT` to get the most up-to-date weights.\n",
      "  warnings.warn(msg)\n",
      "rendering full: 100%|██████████| 145/145 [00:07<00:00, 19.94it/s]\n"
     ]
    },
    {
     "name": "stdout",
     "output_type": "stream",
     "text": [
      "Processed 788 000_0_00200\n",
      "Processed 788 000_1_00200\n",
      "Processed 788 000_2_00200\n",
      "Processed 788 000_3_00200\n",
      "Processed 788 000_4_00200\n",
      "Processed 788 005_0_00200\n",
      "Processed 788 005_1_00200\n",
      "Processed 788 005_2_00200\n",
      "Processed 788 005_3_00200\n",
      "Processed 788 005_4_00200\n",
      "Processed 788 012_0_00200\n",
      "Processed 788 012_1_00200\n",
      "Processed 788 012_2_00200\n",
      "Processed 788 012_3_00200\n",
      "Processed 788 012_4_00200\n",
      "Processed 788 015_0_00200\n",
      "Processed 788 015_1_00200\n",
      "Processed 788 015_2_00200\n",
      "Processed 788 015_3_00200\n",
      "Processed 788 015_4_00200\n",
      "Processed 788 020_0_00200\n",
      "Processed 788 020_1_00200\n",
      "Processed 788 020_2_00200\n",
      "Processed 788 020_3_00200\n",
      "Processed 788 020_4_00200\n",
      "Processed 788 024_0_00200\n",
      "Processed 788 024_1_00200\n",
      "Processed 788 024_2_00200\n",
      "Processed 788 024_3_00200\n",
      "Processed 788 024_4_00200\n",
      "Processed 788 028_0_00200\n",
      "Processed 788 028_1_00200\n",
      "Processed 788 028_2_00200\n",
      "Processed 788 028_3_00200\n",
      "Processed 788 028_4_00200\n",
      "Processed 788 036_0_00200\n",
      "Processed 788 036_1_00200\n",
      "Processed 788 036_2_00200\n",
      "Processed 788 036_3_00200\n",
      "Processed 788 036_4_00200\n",
      "Processed 788 037_0_00200\n",
      "Processed 788 037_1_00200\n",
      "Processed 788 037_2_00200\n",
      "Processed 788 037_3_00200\n",
      "Processed 788 037_4_00200\n",
      "Processed 788 045_0_00200\n",
      "Processed 788 045_1_00200\n",
      "Processed 788 045_2_00200\n",
      "Processed 788 045_3_00200\n",
      "Processed 788 045_4_00200\n",
      "Processed 788 049_0_00200\n",
      "Processed 788 049_1_00200\n",
      "Processed 788 049_2_00200\n",
      "Processed 788 049_3_00200\n",
      "Processed 788 049_4_00200\n",
      "Processed 788 050_0_00200\n",
      "Processed 788 050_1_00200\n",
      "Processed 788 050_2_00200\n",
      "Processed 788 050_3_00200\n",
      "Processed 788 050_4_00200\n",
      "Processed 788 054_0_00200\n",
      "Processed 788 054_1_00200\n",
      "Processed 788 054_2_00200\n",
      "Processed 788 054_3_00200\n",
      "Processed 788 054_4_00200\n",
      "Processed 788 059_0_00200\n",
      "Processed 788 059_1_00200\n",
      "Processed 788 059_2_00200\n",
      "Processed 788 059_3_00200\n",
      "Processed 788 059_4_00200\n",
      "Processed 788 064_0_00200\n",
      "Processed 788 064_1_00200\n",
      "Processed 788 064_2_00200\n",
      "Processed 788 064_3_00200\n",
      "Processed 788 064_4_00200\n",
      "Processed 788 069_0_00200\n",
      "Processed 788 069_1_00200\n",
      "Processed 788 069_2_00200\n",
      "Processed 788 069_3_00200\n",
      "Processed 788 069_4_00200\n",
      "Processed 788 072_0_00200\n",
      "Processed 788 072_1_00200\n",
      "Processed 788 072_2_00200\n",
      "Processed 788 072_3_00200\n",
      "Processed 788 072_4_00200\n",
      "Processed 788 080_0_00200\n",
      "Processed 788 080_1_00200\n",
      "Processed 788 080_2_00200\n",
      "Processed 788 080_3_00200\n",
      "Processed 788 080_4_00200\n",
      "Processed 788 082_0_00200\n",
      "Processed 788 082_1_00200\n",
      "Processed 788 082_2_00200\n",
      "Processed 788 082_3_00200\n",
      "Processed 788 082_4_00200\n",
      "Processed 788 088_0_00200\n",
      "Processed 788 088_1_00200\n",
      "Processed 788 088_2_00200\n",
      "Processed 788 088_3_00200\n",
      "Processed 788 088_4_00200\n",
      "Processed 788 090_0_00200\n",
      "Processed 788 090_1_00200\n",
      "Processed 788 090_2_00200\n",
      "Processed 788 090_3_00200\n",
      "Processed 788 090_4_00200\n",
      "Processed 788 097_0_00200\n",
      "Processed 788 097_1_00200\n",
      "Processed 788 097_2_00200\n",
      "Processed 788 097_3_00200\n",
      "Processed 788 097_4_00200\n",
      "Processed 788 102_0_00200\n",
      "Processed 788 102_1_00200\n",
      "Processed 788 102_2_00200\n",
      "Processed 788 102_3_00200\n",
      "Processed 788 102_4_00200\n",
      "Processed 788 109_0_00200\n",
      "Processed 788 109_1_00200\n",
      "Processed 788 109_2_00200\n",
      "Processed 788 109_3_00200\n",
      "Processed 788 109_4_00200\n",
      "Processed 788 114_0_00200\n",
      "Processed 788 114_1_00200\n",
      "Processed 788 114_2_00200\n",
      "Processed 788 114_3_00200\n",
      "Processed 788 114_4_00200\n",
      "Processed 788 124_0_00200\n",
      "Processed 788 124_1_00200\n",
      "Processed 788 124_2_00200\n",
      "Processed 788 124_3_00200\n",
      "Processed 788 124_4_00200\n",
      "Processed 788 136_0_00200\n",
      "Processed 788 136_1_00200\n",
      "Processed 788 136_2_00200\n",
      "Processed 788 136_3_00200\n",
      "Processed 788 136_4_00200\n",
      "Processed 788 143_0_00200\n",
      "Processed 788 143_1_00200\n",
      "Processed 788 143_2_00200\n",
      "Processed 788 143_3_00200\n",
      "Processed 788 143_4_00200\n",
      "Processed 788 163_0_00200\n",
      "Processed 788 163_1_00200\n",
      "Processed 788 163_2_00200\n",
      "Processed 788 163_3_00200\n",
      "Processed 788 163_4_00200\n"
     ]
    },
    {
     "name": "stderr",
     "output_type": "stream",
     "text": [
      "rendering full: 100%|██████████| 145/145 [00:20<00:00,  7.14it/s]\n"
     ]
    },
    {
     "name": "stdout",
     "output_type": "stream",
     "text": [
      "Processed 788 001_0_00300\n",
      "Processed 788 001_1_00300\n",
      "Processed 788 001_2_00300\n",
      "Processed 788 001_3_00300\n",
      "Processed 788 001_4_00300\n",
      "Processed 788 006_0_00300\n",
      "Processed 788 006_1_00300\n",
      "Processed 788 006_2_00300\n",
      "Processed 788 006_3_00300\n",
      "Processed 788 006_4_00300\n",
      "Processed 788 012_0_00300\n",
      "Processed 788 012_1_00300\n",
      "Processed 788 012_2_00300\n",
      "Processed 788 012_3_00300\n",
      "Processed 788 012_4_00300\n",
      "Processed 788 014_0_00300\n",
      "Processed 788 014_1_00300\n",
      "Processed 788 014_2_00300\n",
      "Processed 788 014_3_00300\n",
      "Processed 788 014_4_00300\n",
      "Processed 788 019_0_00300\n",
      "Processed 788 019_1_00300\n",
      "Processed 788 019_2_00300\n",
      "Processed 788 019_3_00300\n",
      "Processed 788 019_4_00300\n",
      "Processed 788 026_0_00300\n",
      "Processed 788 026_1_00300\n",
      "Processed 788 026_2_00300\n",
      "Processed 788 026_3_00300\n",
      "Processed 788 026_4_00300\n",
      "Processed 788 028_0_00300\n",
      "Processed 788 028_1_00300\n",
      "Processed 788 028_2_00300\n",
      "Processed 788 028_3_00300\n",
      "Processed 788 028_4_00300\n",
      "Processed 788 034_0_00300\n",
      "Processed 788 034_1_00300\n",
      "Processed 788 034_2_00300\n",
      "Processed 788 034_3_00300\n",
      "Processed 788 034_4_00300\n",
      "Processed 788 039_0_00300\n",
      "Processed 788 039_1_00300\n",
      "Processed 788 039_2_00300\n",
      "Processed 788 039_3_00300\n",
      "Processed 788 039_4_00300\n",
      "Processed 788 045_0_00300\n",
      "Processed 788 045_1_00300\n",
      "Processed 788 045_2_00300\n",
      "Processed 788 045_3_00300\n",
      "Processed 788 045_4_00300\n",
      "Processed 788 048_0_00300\n",
      "Processed 788 048_1_00300\n",
      "Processed 788 048_2_00300\n",
      "Processed 788 048_3_00300\n",
      "Processed 788 048_4_00300\n",
      "Processed 788 050_0_00300\n",
      "Processed 788 050_1_00300\n",
      "Processed 788 050_2_00300\n",
      "Processed 788 050_3_00300\n",
      "Processed 788 050_4_00300\n",
      "Processed 788 057_0_00300\n",
      "Processed 788 057_1_00300\n",
      "Processed 788 057_2_00300\n",
      "Processed 788 057_3_00300\n",
      "Processed 788 057_4_00300\n",
      "Processed 788 059_0_00300\n",
      "Processed 788 059_1_00300\n",
      "Processed 788 059_2_00300\n",
      "Processed 788 059_3_00300\n",
      "Processed 788 059_4_00300\n",
      "Processed 788 066_0_00300\n",
      "Processed 788 066_1_00300\n",
      "Processed 788 066_2_00300\n",
      "Processed 788 066_3_00300\n",
      "Processed 788 066_4_00300\n",
      "Processed 788 068_0_00300\n",
      "Processed 788 068_1_00300\n",
      "Processed 788 068_2_00300\n",
      "Processed 788 068_3_00300\n",
      "Processed 788 068_4_00300\n",
      "Processed 788 074_0_00300\n",
      "Processed 788 074_1_00300\n",
      "Processed 788 074_2_00300\n",
      "Processed 788 074_3_00300\n",
      "Processed 788 074_4_00300\n",
      "Processed 788 080_0_00300\n",
      "Processed 788 080_1_00300\n",
      "Processed 788 080_2_00300\n",
      "Processed 788 080_3_00300\n",
      "Processed 788 080_4_00300\n",
      "Processed 788 083_0_00300\n",
      "Processed 788 083_1_00300\n",
      "Processed 788 083_2_00300\n",
      "Processed 788 083_3_00300\n",
      "Processed 788 083_4_00300\n",
      "Processed 788 086_0_00300\n",
      "Processed 788 086_1_00300\n",
      "Processed 788 086_2_00300\n",
      "Processed 788 086_3_00300\n",
      "Processed 788 086_4_00300\n",
      "Processed 788 089_0_00300\n",
      "Processed 788 089_1_00300\n",
      "Processed 788 089_2_00300\n",
      "Processed 788 089_3_00300\n",
      "Processed 788 089_4_00300\n",
      "Processed 788 094_0_00300\n",
      "Processed 788 094_1_00300\n",
      "Processed 788 094_2_00300\n",
      "Processed 788 094_3_00300\n",
      "Processed 788 094_4_00300\n",
      "Processed 788 103_0_00300\n",
      "Processed 788 103_1_00300\n",
      "Processed 788 103_2_00300\n",
      "Processed 788 103_3_00300\n",
      "Processed 788 103_4_00300\n",
      "Processed 788 108_0_00300\n",
      "Processed 788 108_1_00300\n",
      "Processed 788 108_2_00300\n",
      "Processed 788 108_3_00300\n",
      "Processed 788 108_4_00300\n",
      "Processed 788 118_0_00300\n",
      "Processed 788 118_1_00300\n",
      "Processed 788 118_2_00300\n",
      "Processed 788 118_3_00300\n",
      "Processed 788 118_4_00300\n",
      "Processed 788 123_0_00300\n",
      "Processed 788 123_1_00300\n",
      "Processed 788 123_2_00300\n",
      "Processed 788 123_3_00300\n",
      "Processed 788 123_4_00300\n",
      "Processed 788 133_0_00300\n",
      "Processed 788 133_1_00300\n",
      "Processed 788 133_2_00300\n",
      "Processed 788 133_3_00300\n",
      "Processed 788 133_4_00300\n",
      "Processed 788 139_0_00300\n",
      "Processed 788 139_1_00300\n",
      "Processed 788 139_2_00300\n",
      "Processed 788 139_3_00300\n",
      "Processed 788 139_4_00300\n",
      "Processed 788 170_0_00300\n",
      "Processed 788 170_1_00300\n",
      "Processed 788 170_2_00300\n",
      "Processed 788 170_3_00300\n",
      "Processed 788 170_4_00300\n"
     ]
    },
    {
     "name": "stderr",
     "output_type": "stream",
     "text": [
      "rendering full: 100%|██████████| 145/145 [00:19<00:00,  7.46it/s]\n"
     ]
    },
    {
     "name": "stdout",
     "output_type": "stream",
     "text": [
      "Processed 788 002_0_00400\n",
      "Processed 788 002_1_00400\n",
      "Processed 788 002_2_00400\n",
      "Processed 788 002_3_00400\n",
      "Processed 788 002_4_00400\n",
      "Processed 788 008_0_00400\n",
      "Processed 788 008_1_00400\n",
      "Processed 788 008_2_00400\n",
      "Processed 788 008_3_00400\n",
      "Processed 788 008_4_00400\n",
      "Processed 788 012_0_00400\n",
      "Processed 788 012_1_00400\n",
      "Processed 788 012_2_00400\n",
      "Processed 788 012_3_00400\n",
      "Processed 788 012_4_00400\n",
      "Processed 788 015_0_00400\n",
      "Processed 788 015_1_00400\n",
      "Processed 788 015_2_00400\n",
      "Processed 788 015_3_00400\n",
      "Processed 788 015_4_00400\n",
      "Processed 788 021_0_00400\n",
      "Processed 788 021_1_00400\n",
      "Processed 788 021_2_00400\n",
      "Processed 788 021_3_00400\n",
      "Processed 788 021_4_00400\n",
      "Processed 788 025_0_00400\n",
      "Processed 788 025_1_00400\n",
      "Processed 788 025_2_00400\n",
      "Processed 788 025_3_00400\n",
      "Processed 788 025_4_00400\n",
      "Processed 788 029_0_00400\n",
      "Processed 788 029_1_00400\n",
      "Processed 788 029_2_00400\n",
      "Processed 788 029_3_00400\n",
      "Processed 788 029_4_00400\n",
      "Processed 788 034_0_00400\n",
      "Processed 788 034_1_00400\n",
      "Processed 788 034_2_00400\n",
      "Processed 788 034_3_00400\n",
      "Processed 788 034_4_00400\n",
      "Processed 788 037_0_00400\n",
      "Processed 788 037_1_00400\n",
      "Processed 788 037_2_00400\n",
      "Processed 788 037_3_00400\n",
      "Processed 788 037_4_00400\n",
      "Processed 788 045_0_00400\n",
      "Processed 788 045_1_00400\n",
      "Processed 788 045_2_00400\n",
      "Processed 788 045_3_00400\n",
      "Processed 788 045_4_00400\n",
      "Processed 788 047_0_00400\n",
      "Processed 788 047_1_00400\n",
      "Processed 788 047_2_00400\n",
      "Processed 788 047_3_00400\n",
      "Processed 788 047_4_00400\n",
      "Processed 788 051_0_00400\n",
      "Processed 788 051_1_00400\n",
      "Processed 788 051_2_00400\n",
      "Processed 788 051_3_00400\n",
      "Processed 788 051_4_00400\n",
      "Processed 788 055_0_00400\n",
      "Processed 788 055_1_00400\n",
      "Processed 788 055_2_00400\n",
      "Processed 788 055_3_00400\n",
      "Processed 788 055_4_00400\n",
      "Processed 788 062_0_00400\n",
      "Processed 788 062_1_00400\n",
      "Processed 788 062_2_00400\n",
      "Processed 788 062_3_00400\n",
      "Processed 788 062_4_00400\n",
      "Processed 788 066_0_00400\n",
      "Processed 788 066_1_00400\n",
      "Processed 788 066_2_00400\n",
      "Processed 788 066_3_00400\n",
      "Processed 788 066_4_00400\n",
      "Processed 788 070_0_00400\n",
      "Processed 788 070_1_00400\n",
      "Processed 788 070_2_00400\n",
      "Processed 788 070_3_00400\n",
      "Processed 788 070_4_00400\n",
      "Processed 788 073_0_00400\n",
      "Processed 788 073_1_00400\n",
      "Processed 788 073_2_00400\n",
      "Processed 788 073_3_00400\n",
      "Processed 788 073_4_00400\n",
      "Processed 788 078_0_00400\n",
      "Processed 788 078_1_00400\n",
      "Processed 788 078_2_00400\n",
      "Processed 788 078_3_00400\n",
      "Processed 788 078_4_00400\n",
      "Processed 788 081_0_00400\n",
      "Processed 788 081_1_00400\n",
      "Processed 788 081_2_00400\n",
      "Processed 788 081_3_00400\n",
      "Processed 788 081_4_00400\n",
      "Processed 788 086_0_00400\n",
      "Processed 788 086_1_00400\n",
      "Processed 788 086_2_00400\n",
      "Processed 788 086_3_00400\n",
      "Processed 788 086_4_00400\n",
      "Processed 788 089_0_00400\n",
      "Processed 788 089_1_00400\n",
      "Processed 788 089_2_00400\n",
      "Processed 788 089_3_00400\n",
      "Processed 788 089_4_00400\n",
      "Processed 788 096_0_00400\n",
      "Processed 788 096_1_00400\n",
      "Processed 788 096_2_00400\n",
      "Processed 788 096_3_00400\n",
      "Processed 788 096_4_00400\n",
      "Processed 788 101_0_00400\n",
      "Processed 788 101_1_00400\n",
      "Processed 788 101_2_00400\n",
      "Processed 788 101_3_00400\n",
      "Processed 788 101_4_00400\n",
      "Processed 788 109_0_00400\n",
      "Processed 788 109_1_00400\n",
      "Processed 788 109_2_00400\n",
      "Processed 788 109_3_00400\n",
      "Processed 788 109_4_00400\n",
      "Processed 788 115_0_00400\n",
      "Processed 788 115_1_00400\n",
      "Processed 788 115_2_00400\n",
      "Processed 788 115_3_00400\n",
      "Processed 788 115_4_00400\n",
      "Processed 788 125_0_00400\n",
      "Processed 788 125_1_00400\n",
      "Processed 788 125_2_00400\n",
      "Processed 788 125_3_00400\n",
      "Processed 788 125_4_00400\n",
      "Processed 788 135_0_00400\n",
      "Processed 788 135_1_00400\n",
      "Processed 788 135_2_00400\n",
      "Processed 788 135_3_00400\n",
      "Processed 788 135_4_00400\n",
      "Processed 788 141_0_00400\n",
      "Processed 788 141_1_00400\n",
      "Processed 788 141_2_00400\n",
      "Processed 788 141_3_00400\n",
      "Processed 788 141_4_00400\n",
      "Processed 788 187_0_00400\n",
      "Processed 788 187_1_00400\n",
      "Processed 788 187_2_00400\n",
      "Processed 788 187_3_00400\n",
      "Processed 788 187_4_00400\n"
     ]
    },
    {
     "name": "stderr",
     "output_type": "stream",
     "text": [
      "rendering full: 100%|██████████| 145/145 [00:28<00:00,  5.00it/s]\n"
     ]
    },
    {
     "name": "stdout",
     "output_type": "stream",
     "text": [
      "Processed 788 003_0_00500\n",
      "Processed 788 003_1_00500\n",
      "Processed 788 003_2_00500\n",
      "Processed 788 003_3_00500\n",
      "Processed 788 003_4_00500\n",
      "Processed 788 008_0_00500\n",
      "Processed 788 008_1_00500\n",
      "Processed 788 008_2_00500\n",
      "Processed 788 008_3_00500\n",
      "Processed 788 008_4_00500\n",
      "Processed 788 013_0_00500\n",
      "Processed 788 013_1_00500\n",
      "Processed 788 013_2_00500\n",
      "Processed 788 013_3_00500\n",
      "Processed 788 013_4_00500\n",
      "Processed 788 015_0_00500\n",
      "Processed 788 015_1_00500\n",
      "Processed 788 015_2_00500\n",
      "Processed 788 015_3_00500\n",
      "Processed 788 015_4_00500\n",
      "Processed 788 021_0_00500\n",
      "Processed 788 021_1_00500\n",
      "Processed 788 021_2_00500\n",
      "Processed 788 021_3_00500\n",
      "Processed 788 021_4_00500\n",
      "Processed 788 024_0_00500\n",
      "Processed 788 024_1_00500\n",
      "Processed 788 024_2_00500\n",
      "Processed 788 024_3_00500\n",
      "Processed 788 024_4_00500\n",
      "Processed 788 029_0_00500\n",
      "Processed 788 029_1_00500\n",
      "Processed 788 029_2_00500\n",
      "Processed 788 029_3_00500\n",
      "Processed 788 029_4_00500\n",
      "Processed 788 036_0_00500\n",
      "Processed 788 036_1_00500\n",
      "Processed 788 036_2_00500\n",
      "Processed 788 036_3_00500\n",
      "Processed 788 036_4_00500\n",
      "Processed 788 039_0_00500\n",
      "Processed 788 039_1_00500\n",
      "Processed 788 039_2_00500\n",
      "Processed 788 039_3_00500\n",
      "Processed 788 039_4_00500\n",
      "Processed 788 045_0_00500\n",
      "Processed 788 045_1_00500\n",
      "Processed 788 045_2_00500\n",
      "Processed 788 045_3_00500\n",
      "Processed 788 045_4_00500\n",
      "Processed 788 049_0_00500\n",
      "Processed 788 049_1_00500\n",
      "Processed 788 049_2_00500\n",
      "Processed 788 049_3_00500\n",
      "Processed 788 049_4_00500\n",
      "Processed 788 053_0_00500\n",
      "Processed 788 053_1_00500\n",
      "Processed 788 053_2_00500\n",
      "Processed 788 053_3_00500\n",
      "Processed 788 053_4_00500\n",
      "Processed 788 056_0_00500\n",
      "Processed 788 056_1_00500\n",
      "Processed 788 056_2_00500\n",
      "Processed 788 056_3_00500\n",
      "Processed 788 056_4_00500\n",
      "Processed 788 060_0_00500\n",
      "Processed 788 060_1_00500\n",
      "Processed 788 060_2_00500\n",
      "Processed 788 060_3_00500\n",
      "Processed 788 060_4_00500\n",
      "Processed 788 064_0_00500\n",
      "Processed 788 064_1_00500\n",
      "Processed 788 064_2_00500\n",
      "Processed 788 064_3_00500\n",
      "Processed 788 064_4_00500\n",
      "Processed 788 071_0_00500\n",
      "Processed 788 071_1_00500\n",
      "Processed 788 071_2_00500\n",
      "Processed 788 071_3_00500\n",
      "Processed 788 071_4_00500\n",
      "Processed 788 072_0_00500\n",
      "Processed 788 072_1_00500\n",
      "Processed 788 072_2_00500\n",
      "Processed 788 072_3_00500\n",
      "Processed 788 072_4_00500\n",
      "Processed 788 076_0_00500\n",
      "Processed 788 076_1_00500\n",
      "Processed 788 076_2_00500\n",
      "Processed 788 076_3_00500\n",
      "Processed 788 076_4_00500\n",
      "Processed 788 081_0_00500\n",
      "Processed 788 081_1_00500\n",
      "Processed 788 081_2_00500\n",
      "Processed 788 081_3_00500\n",
      "Processed 788 081_4_00500\n",
      "Processed 788 086_0_00500\n",
      "Processed 788 086_1_00500\n",
      "Processed 788 086_2_00500\n",
      "Processed 788 086_3_00500\n",
      "Processed 788 086_4_00500\n",
      "Processed 788 090_0_00500\n",
      "Processed 788 090_1_00500\n",
      "Processed 788 090_2_00500\n",
      "Processed 788 090_3_00500\n",
      "Processed 788 090_4_00500\n",
      "Processed 788 097_0_00500\n",
      "Processed 788 097_1_00500\n",
      "Processed 788 097_2_00500\n",
      "Processed 788 097_3_00500\n",
      "Processed 788 097_4_00500\n",
      "Processed 788 102_0_00500\n",
      "Processed 788 102_1_00500\n",
      "Processed 788 102_2_00500\n",
      "Processed 788 102_3_00500\n",
      "Processed 788 102_4_00500\n",
      "Processed 788 106_0_00500\n",
      "Processed 788 106_1_00500\n",
      "Processed 788 106_2_00500\n",
      "Processed 788 106_3_00500\n",
      "Processed 788 106_4_00500\n",
      "Processed 788 120_0_00500\n",
      "Processed 788 120_1_00500\n",
      "Processed 788 120_2_00500\n",
      "Processed 788 120_3_00500\n",
      "Processed 788 120_4_00500\n",
      "Processed 788 128_0_00500\n",
      "Processed 788 128_1_00500\n",
      "Processed 788 128_2_00500\n",
      "Processed 788 128_3_00500\n",
      "Processed 788 128_4_00500\n",
      "Processed 788 137_0_00500\n",
      "Processed 788 137_1_00500\n",
      "Processed 788 137_2_00500\n",
      "Processed 788 137_3_00500\n",
      "Processed 788 137_4_00500\n",
      "Processed 788 142_0_00500\n",
      "Processed 788 142_1_00500\n",
      "Processed 788 142_2_00500\n",
      "Processed 788 142_3_00500\n",
      "Processed 788 142_4_00500\n",
      "Processed 788 181_0_00500\n",
      "Processed 788 181_1_00500\n",
      "Processed 788 181_2_00500\n",
      "Processed 788 181_3_00500\n",
      "Processed 788 181_4_00500\n"
     ]
    }
   ],
   "execution_count": 19
  },
  {
   "cell_type": "code",
   "id": "4b4833502fc55bd7",
   "metadata": {},
   "source": ",  114, 149, 156, 172, 222, 240, 311, 323, 327, 344, 377, 382, 552, 621, 703, 788",
   "outputs": [],
   "execution_count": null
  }
 ],
 "metadata": {
  "kernelspec": {
   "display_name": "Python 3",
   "language": "python",
   "name": "python3"
  },
  "language_info": {
   "codemirror_mode": {
    "name": "ipython",
    "version": 2
   },
   "file_extension": ".py",
   "mimetype": "text/x-python",
   "name": "python",
   "nbconvert_exporter": "python",
   "pygments_lexer": "ipython2",
   "version": "2.7.6"
  }
 },
 "nbformat": 4,
 "nbformat_minor": 5
}
