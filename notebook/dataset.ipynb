{
 "cells": [
  {
   "cell_type": "code",
   "id": "initial_id",
   "metadata": {
    "collapsed": true,
    "ExecuteTime": {
     "end_time": "2024-12-15T12:51:15.631535Z",
     "start_time": "2024-12-15T12:51:15.628588Z"
    }
   },
   "source": [
    "import os\n",
    "from pathlib import Path\n",
    "\n",
    "output_dir = Path(\"/mnt/f/DataSet/lora/waymo/\")\n",
    "lq_dir = Path(\"/mnt/e/Output/cam5_test/\")\n",
    "waymo_dir = Path(\"/mnt/f/DataSet/waymo/processed/training\")\n",
    "\n",
    "lq_img_dir = lq_dir / \"149\" / \"test_images\""
   ],
   "outputs": [],
   "execution_count": 19
  },
  {
   "cell_type": "code",
   "id": "4b4833502fc55bd7",
   "metadata": {
    "ExecuteTime": {
     "end_time": "2024-12-15T12:51:16.197120Z",
     "start_time": "2024-12-15T12:51:16.189806Z"
    }
   },
   "source": [
    "\n",
    "\n",
    "img_list = os.listdir(lq_img_dir)\n"
   ],
   "outputs": [],
   "execution_count": 20
  },
  {
   "metadata": {
    "ExecuteTime": {
     "end_time": "2024-12-15T12:58:54.608863Z",
     "start_time": "2024-12-15T12:53:58.592647Z"
    }
   },
   "cell_type": "code",
   "source": [
    "import cv2\n",
    "for img_name in img_list:\n",
    "    name = img_name.split(\".\")[0]\n",
    "    scene_id, frame_id, cam_id, iters = name.split(\"_\")\n",
    "    lq_img_path = lq_img_dir / img_name\n",
    "    gt_img_path = waymo_dir / scene_id / \"images\"/ f\"{frame_id}_{cam_id}.jpg\"\n",
    "    lq = cv2.imread(str(lq_img_path))\n",
    "    gt = cv2.imread(str(gt_img_path))\n",
    "    cv2.imwrite(str(output_dir / \"lq\"/ img_name), lq)\n",
    "    cv2.imwrite(str(output_dir / \"gt\"/ img_name), gt)"
   ],
   "id": "425b7bd01b983075",
   "outputs": [],
   "execution_count": 25
  },
  {
   "metadata": {},
   "cell_type": "code",
   "outputs": [],
   "execution_count": null,
   "source": "",
   "id": "391b5c5994987134"
  }
 ],
 "metadata": {
  "kernelspec": {
   "display_name": "Python 3",
   "language": "python",
   "name": "python3"
  },
  "language_info": {
   "codemirror_mode": {
    "name": "ipython",
    "version": 2
   },
   "file_extension": ".py",
   "mimetype": "text/x-python",
   "name": "python",
   "nbconvert_exporter": "python",
   "pygments_lexer": "ipython2",
   "version": "2.7.6"
  }
 },
 "nbformat": 4,
 "nbformat_minor": 5
}
