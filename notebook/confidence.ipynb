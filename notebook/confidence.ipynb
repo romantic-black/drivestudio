{
 "cells": [
  {
   "cell_type": "code",
   "id": "initial_id",
   "metadata": {
    "collapsed": true,
    "ExecuteTime": {
     "end_time": "2024-12-17T04:23:57.208126Z",
     "start_time": "2024-12-17T04:23:51.844918Z"
    }
   },
   "source": [
    "from mpmath.tests.runtests import coverage\n",
    "%load_ext autoreload\n",
    "%autoreload 2\n",
    "\n",
    "from typing import List, Optional\n",
    "from omegaconf import OmegaConf\n",
    "import os\n",
    "import time\n",
    "import json\n",
    "import wandb\n",
    "import logging\n",
    "import argparse\n",
    "\n",
    "import torch\n",
    "import numpy as np\n",
    "from datasets.driving_dataset import DrivingDataset\n",
    "from datasets.my_dataset import MyDataset\n",
    "from utils.misc import import_str\n",
    "from models.trainers import BasicTrainer\n",
    "from models.video_utils import (\n",
    "    render_images,\n",
    "    save_videos,\n",
    "    render_novel_views\n",
    ")\n"
   ],
   "outputs": [
    {
     "name": "stdout",
     "output_type": "stream",
     "text": [
      "Jupyter environment detected. Enabling Open3D WebVisualizer.\n",
      "[Open3D INFO] WebRTC GUI backend enabled.\n",
      "[Open3D INFO] WebRTCWindowSystem: HTTP handshake server disabled.\n"
     ]
    }
   ],
   "execution_count": 1
  },
  {
   "cell_type": "code",
   "id": "f8e12b511020a114",
   "metadata": {
    "ExecuteTime": {
     "end_time": "2024-12-17T04:26:28.836435Z",
     "start_time": "2024-12-17T04:23:57.218603Z"
    }
   },
   "source": [
    "cfg = OmegaConf.load(os.path.join(\"/mnt/e/Output/cam5/149\", \"config.yaml\"))\n",
    "%cd /home/a/drivestudio\n",
    "\n",
    "dataset = MyDataset(cfg.data)"
   ],
   "outputs": [
    {
     "name": "stdout",
     "output_type": "stream",
     "text": [
      "/home/a/drivestudio\n"
     ]
    },
    {
     "name": "stderr",
     "output_type": "stream",
     "text": [
      "Loading images:   4%|▍         | 8/199 [00:00<00:05, 36.74it/s]"
     ]
    },
    {
     "name": "stdout",
     "output_type": "stream",
     "text": [
      "undistorting rgb\n"
     ]
    },
    {
     "name": "stderr",
     "output_type": "stream",
     "text": [
      "Loading images: 100%|██████████| 199/199 [00:05<00:00, 39.01it/s]\n",
      "Loading dynamic masks:   3%|▎         | 6/199 [00:00<00:03, 57.63it/s]"
     ]
    },
    {
     "name": "stdout",
     "output_type": "stream",
     "text": [
      "undistorting dynamic mask\n"
     ]
    },
    {
     "name": "stderr",
     "output_type": "stream",
     "text": [
      "Loading dynamic masks: 100%|██████████| 199/199 [00:03<00:00, 56.02it/s]\n",
      "Loading human masks:   3%|▎         | 6/199 [00:00<00:03, 51.81it/s]"
     ]
    },
    {
     "name": "stdout",
     "output_type": "stream",
     "text": [
      "undistorting human mask\n"
     ]
    },
    {
     "name": "stderr",
     "output_type": "stream",
     "text": [
      "Loading human masks: 100%|██████████| 199/199 [00:03<00:00, 62.90it/s]\n",
      "Loading vehicle masks:   4%|▍         | 8/199 [00:00<00:02, 71.48it/s]"
     ]
    },
    {
     "name": "stdout",
     "output_type": "stream",
     "text": [
      "undistorting vehicle mask\n"
     ]
    },
    {
     "name": "stderr",
     "output_type": "stream",
     "text": [
      "Loading vehicle masks: 100%|██████████| 199/199 [00:02<00:00, 68.97it/s]\n",
      "Loading sky masks:  10%|█         | 20/199 [00:00<00:01, 96.94it/s]"
     ]
    },
    {
     "name": "stdout",
     "output_type": "stream",
     "text": [
      "undistorting sky mask\n"
     ]
    },
    {
     "name": "stderr",
     "output_type": "stream",
     "text": [
      "Loading sky masks: 100%|██████████| 199/199 [00:01<00:00, 105.19it/s]\n",
      "Loading images:   3%|▎         | 5/199 [00:00<00:04, 42.20it/s]"
     ]
    },
    {
     "name": "stdout",
     "output_type": "stream",
     "text": [
      "undistorting rgb\n"
     ]
    },
    {
     "name": "stderr",
     "output_type": "stream",
     "text": [
      "Loading images: 100%|██████████| 199/199 [00:05<00:00, 36.49it/s]\n",
      "Loading dynamic masks:   4%|▍         | 8/199 [00:00<00:02, 70.15it/s]"
     ]
    },
    {
     "name": "stdout",
     "output_type": "stream",
     "text": [
      "undistorting dynamic mask\n"
     ]
    },
    {
     "name": "stderr",
     "output_type": "stream",
     "text": [
      "Loading dynamic masks: 100%|██████████| 199/199 [00:02<00:00, 71.55it/s]\n",
      "Loading human masks:   7%|▋         | 14/199 [00:00<00:02, 68.96it/s]"
     ]
    },
    {
     "name": "stdout",
     "output_type": "stream",
     "text": [
      "undistorting human mask\n"
     ]
    },
    {
     "name": "stderr",
     "output_type": "stream",
     "text": [
      "Loading human masks: 100%|██████████| 199/199 [00:02<00:00, 71.51it/s]\n",
      "Loading vehicle masks:   8%|▊         | 16/199 [00:00<00:02, 78.90it/s]"
     ]
    },
    {
     "name": "stdout",
     "output_type": "stream",
     "text": [
      "undistorting vehicle mask\n"
     ]
    },
    {
     "name": "stderr",
     "output_type": "stream",
     "text": [
      "Loading vehicle masks: 100%|██████████| 199/199 [00:02<00:00, 74.78it/s]\n",
      "Loading sky masks:   5%|▌         | 10/199 [00:00<00:02, 94.17it/s]"
     ]
    },
    {
     "name": "stdout",
     "output_type": "stream",
     "text": [
      "undistorting sky mask\n"
     ]
    },
    {
     "name": "stderr",
     "output_type": "stream",
     "text": [
      "Loading sky masks: 100%|██████████| 199/199 [00:01<00:00, 103.20it/s]\n",
      "Loading images:   4%|▍         | 8/199 [00:00<00:05, 37.11it/s]"
     ]
    },
    {
     "name": "stdout",
     "output_type": "stream",
     "text": [
      "undistorting rgb\n"
     ]
    },
    {
     "name": "stderr",
     "output_type": "stream",
     "text": [
      "Loading images: 100%|██████████| 199/199 [00:05<00:00, 39.39it/s]\n",
      "Loading dynamic masks:   7%|▋         | 14/199 [00:00<00:02, 69.26it/s]"
     ]
    },
    {
     "name": "stdout",
     "output_type": "stream",
     "text": [
      "undistorting dynamic mask\n"
     ]
    },
    {
     "name": "stderr",
     "output_type": "stream",
     "text": [
      "Loading dynamic masks: 100%|██████████| 199/199 [00:02<00:00, 72.51it/s]\n",
      "Loading human masks:   7%|▋         | 14/199 [00:00<00:02, 66.33it/s]"
     ]
    },
    {
     "name": "stdout",
     "output_type": "stream",
     "text": [
      "undistorting human mask\n"
     ]
    },
    {
     "name": "stderr",
     "output_type": "stream",
     "text": [
      "Loading human masks: 100%|██████████| 199/199 [00:02<00:00, 69.14it/s]\n",
      "Loading vehicle masks:   8%|▊         | 16/199 [00:00<00:02, 77.38it/s]"
     ]
    },
    {
     "name": "stdout",
     "output_type": "stream",
     "text": [
      "undistorting vehicle mask\n"
     ]
    },
    {
     "name": "stderr",
     "output_type": "stream",
     "text": [
      "Loading vehicle masks: 100%|██████████| 199/199 [00:02<00:00, 70.88it/s]\n",
      "Loading sky masks:  11%|█         | 22/199 [00:00<00:01, 106.66it/s]"
     ]
    },
    {
     "name": "stdout",
     "output_type": "stream",
     "text": [
      "undistorting sky mask\n"
     ]
    },
    {
     "name": "stderr",
     "output_type": "stream",
     "text": [
      "Loading sky masks: 100%|██████████| 199/199 [00:01<00:00, 101.89it/s]\n",
      "Loading images:   5%|▌         | 10/199 [00:00<00:04, 46.24it/s]"
     ]
    },
    {
     "name": "stdout",
     "output_type": "stream",
     "text": [
      "undistorting rgb\n"
     ]
    },
    {
     "name": "stderr",
     "output_type": "stream",
     "text": [
      "Loading images: 100%|██████████| 199/199 [00:04<00:00, 43.38it/s]\n",
      "Loading dynamic masks:   5%|▍         | 9/199 [00:00<00:02, 83.31it/s]"
     ]
    },
    {
     "name": "stdout",
     "output_type": "stream",
     "text": [
      "undistorting dynamic mask\n"
     ]
    },
    {
     "name": "stderr",
     "output_type": "stream",
     "text": [
      "Loading dynamic masks: 100%|██████████| 199/199 [00:02<00:00, 87.15it/s]\n",
      "Loading human masks:   5%|▍         | 9/199 [00:00<00:02, 82.46it/s]"
     ]
    },
    {
     "name": "stdout",
     "output_type": "stream",
     "text": [
      "undistorting human mask\n"
     ]
    },
    {
     "name": "stderr",
     "output_type": "stream",
     "text": [
      "Loading human masks: 100%|██████████| 199/199 [00:02<00:00, 88.17it/s]\n",
      "Loading vehicle masks:   4%|▍         | 8/199 [00:00<00:02, 72.50it/s]"
     ]
    },
    {
     "name": "stdout",
     "output_type": "stream",
     "text": [
      "undistorting vehicle mask\n"
     ]
    },
    {
     "name": "stderr",
     "output_type": "stream",
     "text": [
      "Loading vehicle masks: 100%|██████████| 199/199 [00:02<00:00, 91.79it/s]\n",
      "Loading sky masks:  12%|█▏        | 24/199 [00:00<00:01, 118.99it/s]"
     ]
    },
    {
     "name": "stdout",
     "output_type": "stream",
     "text": [
      "undistorting sky mask\n"
     ]
    },
    {
     "name": "stderr",
     "output_type": "stream",
     "text": [
      "Loading sky masks: 100%|██████████| 199/199 [00:01<00:00, 126.98it/s]\n",
      "Loading images:   3%|▎         | 5/199 [00:00<00:04, 44.52it/s]"
     ]
    },
    {
     "name": "stdout",
     "output_type": "stream",
     "text": [
      "undistorting rgb\n"
     ]
    },
    {
     "name": "stderr",
     "output_type": "stream",
     "text": [
      "Loading images: 100%|██████████| 199/199 [00:04<00:00, 47.86it/s]\n",
      "Loading dynamic masks:   5%|▍         | 9/199 [00:00<00:02, 87.50it/s]"
     ]
    },
    {
     "name": "stdout",
     "output_type": "stream",
     "text": [
      "undistorting dynamic mask\n"
     ]
    },
    {
     "name": "stderr",
     "output_type": "stream",
     "text": [
      "Loading dynamic masks: 100%|██████████| 199/199 [00:02<00:00, 94.89it/s] \n",
      "Loading human masks:   9%|▉         | 18/199 [00:00<00:02, 85.59it/s]"
     ]
    },
    {
     "name": "stdout",
     "output_type": "stream",
     "text": [
      "undistorting human mask\n"
     ]
    },
    {
     "name": "stderr",
     "output_type": "stream",
     "text": [
      "Loading human masks: 100%|██████████| 199/199 [00:02<00:00, 95.27it/s] \n",
      "Loading vehicle masks:   5%|▌         | 10/199 [00:00<00:02, 93.26it/s]"
     ]
    },
    {
     "name": "stdout",
     "output_type": "stream",
     "text": [
      "undistorting vehicle mask\n"
     ]
    },
    {
     "name": "stderr",
     "output_type": "stream",
     "text": [
      "Loading vehicle masks: 100%|██████████| 199/199 [00:01<00:00, 100.47it/s]\n",
      "Loading sky masks:  11%|█         | 22/199 [00:00<00:01, 109.01it/s]"
     ]
    },
    {
     "name": "stdout",
     "output_type": "stream",
     "text": [
      "undistorting sky mask\n"
     ]
    },
    {
     "name": "stderr",
     "output_type": "stream",
     "text": [
      "Loading sky masks: 100%|██████████| 199/199 [00:01<00:00, 129.54it/s]\n",
      "Loading SMPL: 100%|██████████| 199/199 [00:00<00:00, 615.22it/s]\n",
      "Loading lidar:   0%|          | 0/199 [00:00<?, ?it/s]/home/a/drivestudio/datasets/waymo/waymo_sourceloader.py:411: UserWarning: The given NumPy array is not writable, and PyTorch does not support non-writable tensors. This means writing to this tensor will result in undefined behavior. You may want to copy the array to protect its data or make it writable before converting it to a tensor. This type of warning will be suppressed for the rest of this program. (Triggered internally at ../torch/csrc/utils/tensor_numpy.cpp:206.)\n",
      "  lidar_origins = torch.from_numpy(lidar_info[:, :3]).float()  # 提取原点\n",
      "Loading lidar: 100%|██████████| 199/199 [00:25<00:00,  7.92it/s]\n",
      "Projecting lidar pts on images for camera front_camera: 100%|██████████| 199/199 [00:05<00:00, 33.21it/s]\n",
      "Projecting lidar pts on images for camera front_left_camera: 100%|██████████| 199/199 [00:07<00:00, 25.83it/s]\n",
      "Projecting lidar pts on images for camera front_right_camera: 100%|██████████| 199/199 [00:06<00:00, 32.86it/s]\n",
      "Projecting lidar pts on images for camera left_camera: 100%|██████████| 199/199 [00:05<00:00, 33.99it/s]\n",
      "Projecting lidar pts on images for camera right_camera: 100%|██████████| 199/199 [00:06<00:00, 32.81it/s]\n"
     ]
    }
   ],
   "execution_count": 2
  },
  {
   "cell_type": "code",
   "id": "3ea43612cf6c3427",
   "metadata": {
    "ExecuteTime": {
     "end_time": "2024-12-17T04:28:16.071184Z",
     "start_time": "2024-12-17T04:28:12.910989Z"
    }
   },
   "source": [
    "source = dataset.lidar_source\n",
    "points = source.origins + source.directions * source.ranges\n",
    "grounds = source.grounds\n",
    "flow_class = source.flow_classes\n",
    "points.shape, grounds.shape, flow_class.shape"
   ],
   "outputs": [
    {
     "data": {
      "text/plain": [
       "(torch.Size([19016548, 3]), torch.Size([19016548]), torch.Size([19016548]))"
      ]
     },
     "execution_count": 3,
     "metadata": {},
     "output_type": "execute_result"
    }
   ],
   "execution_count": 3
  },
  {
   "cell_type": "code",
   "id": "4227cecdaa0a5fc",
   "metadata": {},
   "source": [
    "import matplotlib.pyplot as plt\n",
    "\n",
    "def plot_lidar_points(lidar_points, ground_mask=None):\n",
    "    plt.figure(figsize=(10, 10))\n",
    "    plt.scatter(lidar_points[:, 0][~ground_mask], lidar_points[:, 1][~ground_mask], c='b', s=1)  # 2D scatter plot\n",
    "    plt.title('2D Lidar Points')\n",
    "    plt.xlabel('X Coordinate')\n",
    "    plt.ylabel('Y Coordinate')\n",
    "    plt.axis('equal')\n",
    "    plt.grid(True)\n",
    "    plt.show()\n",
    "\n",
    "plot_lidar_points(points.numpy(), grounds.numpy())  # Convert to numpy array for plotting\n"
   ],
   "outputs": [],
   "execution_count": null
  },
  {
   "cell_type": "code",
   "id": "2a942bde98b8abc2",
   "metadata": {},
   "source": [
    "import torch.nn.functional as F\n",
    "\n",
    "def create_voxel_grid_2d(lidar_points, voxel_size=1):\n",
    "    z = lidar_points[:, 2]\n",
    "    lidar_points = lidar_points[(-1 <= z) & (z <= 3)]\n",
    "    x_min, x_max = lidar_points[:, 0].min(), lidar_points[:, 0].max()\n",
    "    y_min, y_max = lidar_points[:, 1].min(), lidar_points[:, 1].max()\n",
    "    \n",
    "    grid_size_x = int((x_max - x_min) / voxel_size) + 1\n",
    "    grid_size_y = int((y_max - y_min) / voxel_size) + 1\n",
    "    \n",
    "    voxel_grid = torch.zeros((grid_size_x, grid_size_y), dtype=torch.int32)\n",
    "    \n",
    "    # 计算每个点的体素索引\n",
    "    voxel_indices_x = ((lidar_points[:, 0] - x_min) / voxel_size).long()\n",
    "    voxel_indices_y = ((lidar_points[:, 1] - y_min) / voxel_size).long()\n",
    "    \n",
    "    # 将二维索引展平成一维索引\n",
    "    flat_indices = voxel_indices_x * grid_size_y + voxel_indices_y\n",
    "    \n",
    "    # 使用 torch.bincount 统计每个体素的点数量\n",
    "    counts = torch.bincount(flat_indices, minlength=grid_size_x * grid_size_y)\n",
    "    \n",
    "    # 将一维结果重塑为二维网格\n",
    "    voxel_grid = counts.view(grid_size_x, grid_size_y)\n",
    "    \n",
    "    return voxel_grid\n",
    "\n",
    "p = points[~grounds]\n",
    "c = flow_class[~grounds]\n",
    "\n",
    "# 生成2D体素网格\n",
    "voxel_grid_2d = create_voxel_grid_2d(p[c<=0])\n"
   ],
   "outputs": [],
   "execution_count": null
  },
  {
   "cell_type": "code",
   "id": "d8a57a52040ea24a",
   "metadata": {},
   "source": [
    "plt.figure(figsize=(10, 10))\n",
    "plt.imshow(voxel_grid_2d.numpy() > 3, cmap='hot', interpolation='nearest')\n",
    "plt.title('Voxel Grid')\n",
    "plt.xlabel('Voxel X')\n",
    "plt.ylabel('Voxel Y')\n",
    "plt.colorbar(label='Point Count')\n",
    "plt.axis('equal')\n",
    "plt.show()\n"
   ],
   "outputs": [],
   "execution_count": null
  },
  {
   "cell_type": "code",
   "id": "fd324945652247b3",
   "metadata": {
    "ExecuteTime": {
     "end_time": "2024-12-17T04:28:22.813312Z",
     "start_time": "2024-12-17T04:28:22.791558Z"
    }
   },
   "source": [
    "\n",
    "cameras = dataset.pixel_source.camera_data\n",
    "camera_0 = cameras[1]\n",
    "\n",
    "poses = camera_0.cam_to_worlds\n",
    "intrinsic = camera_0.intrinsics[0]\n",
    "fov = 2 * torch.atan2(intrinsic[0, 2], intrinsic[0, 0])  # 计算视场角 (FOV)\n",
    "\n",
    "import math\n",
    "\n",
    "pose = poses[1]     # 4x4\n",
    "cx = pose[0, 3]\n",
    "cy = pose[1, 3]\n",
    "angle = math.atan2(pose[1, 0], pose[0, 0])\n",
    "cameras"
   ],
   "outputs": [
    {
     "data": {
      "text/plain": [
       "{0: <datasets.waymo.waymo_sourceloader.WaymoCameraData at 0x7efc0c4d17c0>,\n",
       " 1: <datasets.waymo.waymo_sourceloader.WaymoCameraData at 0x7efc0c4d98b0>,\n",
       " 2: <datasets.waymo.waymo_sourceloader.WaymoCameraData at 0x7efc44313220>,\n",
       " 3: <datasets.waymo.waymo_sourceloader.WaymoCameraData at 0x7efc0c4d9700>,\n",
       " 4: <datasets.waymo.waymo_sourceloader.WaymoCameraData at 0x7efc0c4abf10>}"
      ]
     },
     "execution_count": 4,
     "metadata": {},
     "output_type": "execute_result"
    }
   ],
   "execution_count": 4
  },
  {
   "metadata": {
    "ExecuteTime": {
     "end_time": "2024-12-17T04:28:28.866186Z",
     "start_time": "2024-12-17T04:28:25.694341Z"
    }
   },
   "cell_type": "code",
   "source": [
    "from utils.mytools import Camera, Grid2d, CameraSet, Grid2dNumba\n",
    "grid = Grid2d(points, grounds, flow_class, cameras)\n",
    "\n",
    "\n"
   ],
   "id": "d56b45f29e06c1b7",
   "outputs": [],
   "execution_count": 5
  },
  {
   "metadata": {
    "ExecuteTime": {
     "end_time": "2024-12-17T04:28:38.448566Z",
     "start_time": "2024-12-17T04:28:32.029834Z"
    }
   },
   "cell_type": "code",
   "source": "grid_numba = Grid2dNumba(grid, radius=8)",
   "id": "12e87d327e785802",
   "outputs": [],
   "execution_count": 6
  },
  {
   "metadata": {
    "ExecuteTime": {
     "end_time": "2024-12-17T04:28:44.925386Z",
     "start_time": "2024-12-17T04:28:43.864528Z"
    }
   },
   "cell_type": "code",
   "source": "area_coverage = grid_numba.get_area_coverage()",
   "id": "b434731815240dfa",
   "outputs": [
    {
     "ename": "TypingError",
     "evalue": "Failed in nopython mode pipeline (step: nopython frontend)\nFailed in nopython mode pipeline (step: nopython frontend)\nNo implementation of function Function(<built-in function getitem>) found for signature:\n \n >>> getitem(array(float32, 2d, C), array(bool, 2d, C))\n \nThere are 22 candidate implementations:\n  - Of which 20 did not match due to:\n  Overload of function 'getitem': File: <numerous>: Line N/A.\n    With argument(s): '(array(float32, 2d, C), array(bool, 2d, C))':\n   No match.\n  - Of which 2 did not match due to:\n  Overload in function 'GetItemBuffer.generic': File: numba/core/typing/arraydecl.py: Line 211.\n    With argument(s): '(array(float32, 2d, C), array(bool, 2d, C))':\n   Rejected as the implementation raised a specific error:\n     NumbaTypeError: Multi-dimensional indices are not supported.\n  raised from /home/a/anaconda3/envs/drivestudio/lib/python3.9/site-packages/numba/core/typing/arraydecl.py:91\n\nDuring: typing of intrinsic-call at /home/a/drivestudio/utils/mytools.py (161)\n\nFile \"utils/mytools.py\", line 161:\ndef compute_voxel_coverage(ang, voxel_hit_angles, sigma=np.pi/180):\n    <source elided>\n    # 去除 nan\n    voxel_hit_angles = voxel_hit_angles[~np.isnan(voxel_hit_angles)]\n    ^\n\nDuring: resolving callee type: type(CPUDispatcher(<function compute_voxel_coverage at 0x7efc0c445940>))\nDuring: typing of call at /home/a/drivestudio/utils/mytools.py (151)\n\nDuring: resolving callee type: type(CPUDispatcher(<function compute_voxel_coverage at 0x7efc0c445940>))\nDuring: typing of call at /home/a/drivestudio/utils/mytools.py (151)\n\n\nFile \"utils/mytools.py\", line 151:\ndef compute_area_coverage(voxel_indices, voxel_hit_angles, coord_range, grid_range, area_indices, fov, grid_size, num_rays=100, max_distance=50):\n    <source elided>\n                else:\n                    voxel_coverage = compute_voxel_coverage(ang, voxel_hit_angles=voxel_hit_angles[voxel_index])\n                    ^\n",
     "output_type": "error",
     "traceback": [
      "\u001B[0;31m---------------------------------------------------------------------------\u001B[0m",
      "\u001B[0;31mTypingError\u001B[0m                               Traceback (most recent call last)",
      "Cell \u001B[0;32mIn[7], line 1\u001B[0m\n\u001B[0;32m----> 1\u001B[0m area_coverage \u001B[38;5;241m=\u001B[39m \u001B[43mgrid_numba\u001B[49m\u001B[38;5;241;43m.\u001B[39;49m\u001B[43mget_area_coverage\u001B[49m\u001B[43m(\u001B[49m\u001B[43m)\u001B[49m\n",
      "File \u001B[0;32m/home/a/drivestudio/utils/mytools.py:119\u001B[0m, in \u001B[0;36mGrid2dNumba.get_area_coverage\u001B[0;34m(self)\u001B[0m\n\u001B[1;32m    118\u001B[0m \u001B[38;5;28;01mdef\u001B[39;00m \u001B[38;5;21mget_area_coverage\u001B[39m(\u001B[38;5;28mself\u001B[39m):\n\u001B[0;32m--> 119\u001B[0m     \u001B[38;5;28;01mreturn\u001B[39;00m \u001B[43mcompute_area_coverage\u001B[49m\u001B[43m(\u001B[49m\u001B[38;5;28;43mself\u001B[39;49m\u001B[38;5;241;43m.\u001B[39;49m\u001B[43mvoxel_indices\u001B[49m\u001B[43m,\u001B[49m\u001B[43m \u001B[49m\u001B[38;5;28;43mself\u001B[39;49m\u001B[38;5;241;43m.\u001B[39;49m\u001B[43mhit_angles\u001B[49m\u001B[43m,\u001B[49m\u001B[43m \u001B[49m\u001B[38;5;28;43mself\u001B[39;49m\u001B[38;5;241;43m.\u001B[39;49m\u001B[43mcoord_range\u001B[49m\u001B[43m,\u001B[49m\u001B[43m \u001B[49m\u001B[38;5;28;43mself\u001B[39;49m\u001B[38;5;241;43m.\u001B[39;49m\u001B[43mgrid_range\u001B[49m\u001B[43m,\u001B[49m\u001B[43m \u001B[49m\u001B[38;5;28;43mself\u001B[39;49m\u001B[38;5;241;43m.\u001B[39;49m\u001B[43mindices\u001B[49m\u001B[43m,\u001B[49m\u001B[43m \u001B[49m\u001B[38;5;28;43mself\u001B[39;49m\u001B[38;5;241;43m.\u001B[39;49m\u001B[43mfov\u001B[49m\u001B[43m,\u001B[49m\u001B[43m \u001B[49m\u001B[38;5;28;43mself\u001B[39;49m\u001B[38;5;241;43m.\u001B[39;49m\u001B[43mgrid_size\u001B[49m\u001B[43m)\u001B[49m\n",
      "File \u001B[0;32m/home/a/anaconda3/envs/drivestudio/lib/python3.9/site-packages/numba/core/dispatcher.py:423\u001B[0m, in \u001B[0;36m_DispatcherBase._compile_for_args\u001B[0;34m(self, *args, **kws)\u001B[0m\n\u001B[1;32m    419\u001B[0m         msg \u001B[38;5;241m=\u001B[39m (\u001B[38;5;124mf\u001B[39m\u001B[38;5;124m\"\u001B[39m\u001B[38;5;132;01m{\u001B[39;00m\u001B[38;5;28mstr\u001B[39m(e)\u001B[38;5;241m.\u001B[39mrstrip()\u001B[38;5;132;01m}\u001B[39;00m\u001B[38;5;124m \u001B[39m\u001B[38;5;130;01m\\n\u001B[39;00m\u001B[38;5;130;01m\\n\u001B[39;00m\u001B[38;5;124mThis error may have been caused \u001B[39m\u001B[38;5;124m\"\u001B[39m\n\u001B[1;32m    420\u001B[0m                \u001B[38;5;124mf\u001B[39m\u001B[38;5;124m\"\u001B[39m\u001B[38;5;124mby the following argument(s):\u001B[39m\u001B[38;5;130;01m\\n\u001B[39;00m\u001B[38;5;132;01m{\u001B[39;00margs_str\u001B[38;5;132;01m}\u001B[39;00m\u001B[38;5;130;01m\\n\u001B[39;00m\u001B[38;5;124m\"\u001B[39m)\n\u001B[1;32m    421\u001B[0m         e\u001B[38;5;241m.\u001B[39mpatch_message(msg)\n\u001B[0;32m--> 423\u001B[0m     \u001B[43merror_rewrite\u001B[49m\u001B[43m(\u001B[49m\u001B[43me\u001B[49m\u001B[43m,\u001B[49m\u001B[43m \u001B[49m\u001B[38;5;124;43m'\u001B[39;49m\u001B[38;5;124;43mtyping\u001B[39;49m\u001B[38;5;124;43m'\u001B[39;49m\u001B[43m)\u001B[49m\n\u001B[1;32m    424\u001B[0m \u001B[38;5;28;01mexcept\u001B[39;00m errors\u001B[38;5;241m.\u001B[39mUnsupportedError \u001B[38;5;28;01mas\u001B[39;00m e:\n\u001B[1;32m    425\u001B[0m     \u001B[38;5;66;03m# Something unsupported is present in the user code, add help info\u001B[39;00m\n\u001B[1;32m    426\u001B[0m     error_rewrite(e, \u001B[38;5;124m'\u001B[39m\u001B[38;5;124munsupported_error\u001B[39m\u001B[38;5;124m'\u001B[39m)\n",
      "File \u001B[0;32m/home/a/anaconda3/envs/drivestudio/lib/python3.9/site-packages/numba/core/dispatcher.py:364\u001B[0m, in \u001B[0;36m_DispatcherBase._compile_for_args.<locals>.error_rewrite\u001B[0;34m(e, issue_type)\u001B[0m\n\u001B[1;32m    362\u001B[0m     \u001B[38;5;28;01mraise\u001B[39;00m e\n\u001B[1;32m    363\u001B[0m \u001B[38;5;28;01melse\u001B[39;00m:\n\u001B[0;32m--> 364\u001B[0m     \u001B[38;5;28;01mraise\u001B[39;00m e\u001B[38;5;241m.\u001B[39mwith_traceback(\u001B[38;5;28;01mNone\u001B[39;00m)\n",
      "\u001B[0;31mTypingError\u001B[0m: Failed in nopython mode pipeline (step: nopython frontend)\nFailed in nopython mode pipeline (step: nopython frontend)\nNo implementation of function Function(<built-in function getitem>) found for signature:\n \n >>> getitem(array(float32, 2d, C), array(bool, 2d, C))\n \nThere are 22 candidate implementations:\n  - Of which 20 did not match due to:\n  Overload of function 'getitem': File: <numerous>: Line N/A.\n    With argument(s): '(array(float32, 2d, C), array(bool, 2d, C))':\n   No match.\n  - Of which 2 did not match due to:\n  Overload in function 'GetItemBuffer.generic': File: numba/core/typing/arraydecl.py: Line 211.\n    With argument(s): '(array(float32, 2d, C), array(bool, 2d, C))':\n   Rejected as the implementation raised a specific error:\n     NumbaTypeError: Multi-dimensional indices are not supported.\n  raised from /home/a/anaconda3/envs/drivestudio/lib/python3.9/site-packages/numba/core/typing/arraydecl.py:91\n\nDuring: typing of intrinsic-call at /home/a/drivestudio/utils/mytools.py (161)\n\nFile \"utils/mytools.py\", line 161:\ndef compute_voxel_coverage(ang, voxel_hit_angles, sigma=np.pi/180):\n    <source elided>\n    # 去除 nan\n    voxel_hit_angles = voxel_hit_angles[~np.isnan(voxel_hit_angles)]\n    ^\n\nDuring: resolving callee type: type(CPUDispatcher(<function compute_voxel_coverage at 0x7efc0c445940>))\nDuring: typing of call at /home/a/drivestudio/utils/mytools.py (151)\n\nDuring: resolving callee type: type(CPUDispatcher(<function compute_voxel_coverage at 0x7efc0c445940>))\nDuring: typing of call at /home/a/drivestudio/utils/mytools.py (151)\n\n\nFile \"utils/mytools.py\", line 151:\ndef compute_area_coverage(voxel_indices, voxel_hit_angles, coord_range, grid_range, area_indices, fov, grid_size, num_rays=100, max_distance=50):\n    <source elided>\n                else:\n                    voxel_coverage = compute_voxel_coverage(ang, voxel_hit_angles=voxel_hit_angles[voxel_index])\n                    ^\n"
     ]
    }
   ],
   "execution_count": 7
  },
  {
   "metadata": {
    "ExecuteTime": {
     "end_time": "2024-12-16T14:57:26.152360Z",
     "start_time": "2024-12-16T14:57:15.473146Z"
    }
   },
   "cell_type": "code",
   "source": "grid_numba.grid_size.numpy()",
   "id": "9f85487e4870c534",
   "outputs": [
    {
     "ename": "AttributeError",
     "evalue": "'float' object has no attribute 'numpy'",
     "output_type": "error",
     "traceback": [
      "\u001B[0;31m---------------------------------------------------------------------------\u001B[0m",
      "\u001B[0;31mAttributeError\u001B[0m                            Traceback (most recent call last)",
      "Cell \u001B[0;32mIn[168], line 1\u001B[0m\n\u001B[0;32m----> 1\u001B[0m \u001B[43mgrid_numba\u001B[49m\u001B[38;5;241;43m.\u001B[39;49m\u001B[43mgrid_size\u001B[49m\u001B[38;5;241;43m.\u001B[39;49m\u001B[43mnumpy\u001B[49m()\n",
      "\u001B[0;31mAttributeError\u001B[0m: 'float' object has no attribute 'numpy'"
     ]
    }
   ],
   "execution_count": 168
  },
  {
   "metadata": {},
   "cell_type": "code",
   "outputs": [],
   "execution_count": null,
   "source": [
    "map = grid.get_hot_map()\n",
    "\n",
    "map.shape, grid.voxel_grid_2d.shape"
   ],
   "id": "692850f13aba2d74"
  },
  {
   "metadata": {
    "ExecuteTime": {
     "end_time": "2024-12-16T08:54:39.587278Z",
     "start_time": "2024-12-16T08:54:39.167775Z"
    }
   },
   "cell_type": "code",
   "source": [
    "plt.figure(figsize=(10, 10))\n",
    "plt.imshow(map.numpy(), cmap='hot', interpolation='nearest')\n",
    "plt.title('Voxel Grid')\n",
    "plt.xlabel('Voxel X')\n",
    "plt.ylabel('Voxel Y')\n",
    "plt.colorbar(label='Point Count')\n",
    "plt.axis('equal')\n",
    "plt.show()"
   ],
   "id": "f364d425535a977c",
   "outputs": [
    {
     "data": {
      "text/plain": [
       "<Figure size 1000x1000 with 2 Axes>"
      ],
      "image/png": "[encoded data removed]"
     },
     "metadata": {},
     "output_type": "display_data"
    }
   ],
   "execution_count": 78
  },
  {
   "metadata": {
    "ExecuteTime": {
     "end_time": "2024-12-16T09:18:37.856013Z",
     "start_time": "2024-12-16T09:17:47.890797Z"
    }
   },
   "cell_type": "code",
   "source": [
    "coverages = []\n",
    "for cam in cameras.values():\n",
    "    print(cam)\n",
    "    coverages.append(grid.get_camera_set_coverage(CameraSet(cam.cam_to_worlds, cam.intrinsics)))\n",
    "print(coverages)"
   ],
   "id": "8b89694bdebcdd09",
   "outputs": [
    {
     "name": "stdout",
     "output_type": "stream",
     "text": [
      "<datasets.waymo.waymo_sourceloader.WaymoCameraData object at 0x7f943ccbd940>\n",
      "<datasets.waymo.waymo_sourceloader.WaymoCameraData object at 0x7f943cd105b0>\n",
      "<datasets.waymo.waymo_sourceloader.WaymoCameraData object at 0x7f943cc40730>\n",
      "<datasets.waymo.waymo_sourceloader.WaymoCameraData object at 0x7f943cc409d0>\n",
      "<datasets.waymo.waymo_sourceloader.WaymoCameraData object at 0x7f942abedaf0>\n",
      "[[1.0, 1.0, 1.0, 1.0, 1.0, 1.0, 1.0, 1.0, 1.0, 1.0, 1.0, 1.0, 1.0, 1.0, 1.0, 1.0, 1.0, 1.0, 1.0, 1.0, 1.0, 1.0, 1.0, 1.0, 1.0, 1.0, 1.0, 1.0, 1.0, 1.0, 1.0, 1.0, 1.0, 1.0, 1.0, 1.0, 1.0, 1.0, 1.0, 1.0, 1.0, 1.0, 1.0, 1.0, 1.0, 1.0, 1.0, 1.0, 1.0, 1.0, 1.0, 1.0, 1.0, 1.0, 1.0, 1.0, 1.0, 1.0, 1.0, 1.0, 1.0, 1.0, 1.0, 1.0, 1.0, 1.0, 1.0, 1.0, 1.0, 1.0, 1.0, 1.0, 1.0, 1.0, 1.0, 1.0, 1.0, 1.0, 1.0, 1.0, 1.0, 1.0, 1.0, 1.0, 1.0, 1.0, 1.0, 1.0, 1.0, 1.0, 1.0, 1.0, 1.0, 1.0, 1.0, 1.0, 1.0, 1.0, 1.0, 1.0, 1.0, 1.0, 1.0, 1.0, 1.0, 1.0, 1.0, 1.0, 1.0, 1.0, 1.0, 1.0, 1.0, 1.0, 1.0, 1.0, 1.0, 1.0, 1.0, 1.0, 1.0, 1.0, 1.0, 1.0, 1.0, 1.0, 1.0, 1.0, 1.0, 1.0, 1.0, 1.0, 1.0, 1.0, 1.0, 1.0, 1.0, 1.0, 1.0, 1.0, 1.0, 1.0, 1.0, 1.0, 1.0, 1.0, 1.0, 1.0, 1.0, 1.0, 1.0, 1.0, 1.0, 1.0, 1.0, 1.0, 1.0, 1.0, 1.0, 1.0, 1.0, 1.0, 1.0, 1.0, 1.0, 1.0, 1.0, 1.0, 1.0, 1.0, 1.0, 1.0, 1.0, 1.0, 1.0, 1.0, 1.0, 1.0, 1.0, 1.0, 1.0, 1.0, 1.0, 1.0, 1.0, 1.0, 1.0, 1.0, 1.0, 1.0, 1.0, 1.0, 1.0, 1.0, 1.0, 1.0, 1.0, 1.0, 1.0], [1.0, 1.0, 1.0, 1.0, 1.0, 1.0, 1.0, 1.0, 1.0, 1.0, 1.0, 1.0, 1.0, 1.0, 1.0, 1.0, 1.0, 1.0, 1.0, 1.0, 1.0, 1.0, 1.0, 1.0, 1.0, 1.0, 1.0, 1.0, 1.0, 1.0, 1.0, 1.0, 1.0, 1.0, 1.0, 1.0, 1.0, 1.0, 1.0, 1.0, 1.0, 1.0, 1.0, 1.0, 1.0, 1.0, 1.0, 1.0, 1.0, 1.0, 1.0, 1.0, 1.0, 1.0, 1.0, 1.0, 1.0, 1.0, 1.0, 1.0, 1.0, 1.0, 1.0, 1.0, 1.0, 1.0, 1.0, 1.0, 1.0, 1.0, 1.0, 1.0, 1.0, 1.0, 1.0, 1.0, 1.0, 1.0, 1.0, 1.0, 1.0, 1.0, 1.0, 1.0, 1.0, 1.0, 1.0, 1.0, 1.0, 1.0, 1.0, 1.0, 1.0, 1.0, 1.0, 1.0, 1.0, 1.0, 1.0, 1.0, 1.0, 1.0, 1.0, 1.0, 1.0, 1.0, 1.0, 1.0, 1.0, 1.0, 1.0, 1.0, 1.0, 1.0, 1.0, 1.0, 1.0, 1.0, 1.0, 1.0, 1.0, 1.0, 1.0, 1.0, 1.0, 1.0, 1.0, 1.0, 1.0, 1.0, 1.0, 1.0, 1.0, 1.0, 1.0, 1.0, 1.0, 1.0, 1.0, 1.0, 1.0, 1.0, 1.0, 1.0, 1.0, 1.0, 1.0, 1.0, 1.0, 1.0, 1.0, 1.0, 1.0, 1.0, 1.0, 1.0, 1.0, 1.0, 1.0, 1.0, 1.0, 1.0, 1.0, 1.0, 1.0, 1.0, 1.0, 1.0, 1.0, 1.0, 1.0, 1.0, 1.0, 1.0, 1.0, 1.0, 1.0, 1.0, 1.0, 1.0, 1.0, 1.0, 1.0, 1.0, 1.0, 1.0, 1.0, 1.0, 1.0, 1.0, 1.0, 1.0, 1.0, 1.0, 1.0, 1.0, 1.0, 1.0, 1.0], [0, 0, 0, 0, 1.0, 1.0, 1.0, 1.0, 1.0, 1.0, 1.0, 1.0, 1.0, 1.0, 1.0, 1.0, 1.0, 1.0, 1.0, 1.0, 1.0, 1.0, 1.0, 1.0, 1.0, 1.0, 1.0, 1.0, 1.0, 1.0, 1.0, 1.0, 1.0, 1.0, 1.0, 1.0, 1.0, 1.0, 1.0, 1.0, 1.0, 1.0, 1.0, 1.0, 1.0, 1.0, 1.0, 1.0, 1.0, 1.0, 1.0, 1.0, 1.0, 1.0, 1.0, 1.0, 1.0, 1.0, 1.0, 1.0, 1.0, 1.0, 1.0, 1.0, 1.0, 1.0, 1.0, 1.0, 1.0, 1.0, 1.0, 1.0, 1.0, 1.0, 1.0, 1.0, 1.0, 1.0, 1.0, 1.0, 1.0, 1.0, 1.0, 1.0, 1.0, 1.0, 1.0, 1.0, 1.0, 1.0, 1.0, 1.0, 1.0, 1.0, 1.0, 1.0, 1.0, 1.0, 1.0, 1.0, 1.0, 1.0, 1.0, 1.0, 1.0, 1.0, 1.0, 1.0, 1.0, 1.0, 1.0, 1.0, 1.0, 1.0, 1.0, 1.0, 1.0, 1.0, 1.0, 1.0, 1.0, 1.0, 1.0, 1.0, 1.0, 1.0, 1.0, 1.0, 1.0, 1.0, 1.0, 1.0, 1.0, 1.0, 1.0, 1.0, 1.0, 1.0, 1.0, 1.0, 1.0, 1.0, 1.0, 1.0, 1.0, 1.0, 1.0, 1.0, 1.0, 1.0, 1.0, 1.0, 1.0, 1.0, 1.0, 1.0, 1.0, 1.0, 1.0, 1.0, 1.0, 1.0, 1.0, 1.0, 1.0, 1.0, 1.0, 1.0, 1.0, 1.0, 1.0, 1.0, 1.0, 1.0, 1.0, 1.0, 1.0, 1.0, 1.0, 1.0, 1.0, 1.0, 1.0, 1.0, 1.0, 1.0, 1.0, 1.0, 1.0, 1.0, 1.0, 1.0, 1.0, 1.0, 1.0, 1.0, 1.0, 1.0, 1.0], [1.0, 1.0, 1.0, 1.0, 1.0, 1.0, 1.0, 1.0, 1.0, 1.0, 1.0, 1.0, 1.0, 1.0, 1.0, 1.0, 1.0, 1.0, 1.0, 1.0, 1.0, 1.0, 1.0, 1.0, 1.0, 1.0, 1.0, 1.0, 1.0, 1.0, 1.0, 1.0, 1.0, 1.0, 1.0, 1.0, 1.0, 1.0, 1.0, 1.0, 1.0, 1.0, 1.0, 1.0, 1.0, 1.0, 1.0, 1.0, 1.0, 1.0, 1.0, 1.0, 1.0, 1.0, 1.0, 1.0, 1.0, 1.0, 1.0, 1.0, 1.0, 1.0, 1.0, 1.0, 1.0, 1.0, 1.0, 1.0, 1.0, 1.0, 1.0, 1.0, 1.0, 1.0, 1.0, 1.0, 1.0, 1.0, 1.0, 1.0, 1.0, 1.0, 1.0, 1.0, 1.0, 1.0, 1.0, 1.0, 1.0, 1.0, 1.0, 1.0, 1.0, 1.0, 1.0, 1.0, 1.0, 1.0, 1.0, 1.0, 1.0, 1.0, 1.0, 1.0, 1.0, 1.0, 1.0, 1.0, 1.0, 1.0, 1.0, 1.0, 1.0, 1.0, 1.0, 1.0, 1.0, 1.0, 1.0, 1.0, 1.0, 1.0, 1.0, 1.0, 1.0, 1.0, 1.0, 1.0, 1.0, 1.0, 1.0, 1.0, 1.0, 1.0, 1.0, 1.0, 1.0, 1.0, 1.0, 1.0, 1.0, 1.0, 1.0, 1.0, 1.0, 1.0, 1.0, 1.0, 1.0, 1.0, 1.0, 1.0, 1.0, 1.0, 1.0, 1.0, 1.0, 1.0, 1.0, 1.0, 1.0, 1.0, 1.0, 1.0, 1.0, 0, 0, 0, 0, 0, 0, 0, 0, 0, 0, 0, 0, 0, 0, 0, 0, 0, 0, 0, 0, 0, 0, 0, 0, 0, 0, 0, 0, 0, 0, 0, 0, 0, 0], [0, 0, 0, 0, 0, 0, 0, 0, 0, 0, 0, 0, 0, 0, 0, 0, 0, 1.0, 1.0, 1.0, 1.0, 1.0, 1.0, 1.0, 1.0, 1.0, 1.0, 1.0, 1.0, 1.0, 1.0, 1.0, 1.0, 1.0, 1.0, 1.0, 1.0, 1.0, 1.0, 1.0, 1.0, 1.0, 1.0, 1.0, 1.0, 1.0, 1.0, 1.0, 1.0, 1.0, 1.0, 1.0, 1.0, 1.0, 1.0, 1.0, 1.0, 1.0, 1.0, 1.0, 1.0, 1.0, 1.0, 1.0, 1.0, 1.0, 1.0, 1.0, 1.0, 1.0, 1.0, 1.0, 1.0, 1.0, 1.0, 1.0, 1.0, 1.0, 1.0, 1.0, 1.0, 1.0, 1.0, 1.0, 1.0, 1.0, 1.0, 1.0, 1.0, 1.0, 1.0, 1.0, 1.0, 1.0, 1.0, 1.0, 1.0, 1.0, 1.0, 1.0, 1.0, 1.0, 1.0, 1.0, 1.0, 1.0, 1.0, 1.0, 1.0, 1.0, 1.0, 1.0, 1.0, 1.0, 1.0, 1.0, 1.0, 1.0, 1.0, 1.0, 1.0, 1.0, 1.0, 1.0, 1.0, 1.0, 1.0, 1.0, 1.0, 1.0, 1.0, 1.0, 1.0, 1.0, 1.0, 1.0, 1.0, 1.0, 1.0, 1.0, 1.0, 1.0, 1.0, 1.0, 1.0, 1.0, 1.0, 1.0, 1.0, 1.0, 1.0, 1.0, 1.0, 1.0, 1.0, 1.0, 1.0, 1.0, 1.0, 1.0, 1.0, 1.0, 1.0, 1.0, 1.0, 1.0, 1.0, 1.0, 1.0, 1.0, 1.0, 1.0, 1.0, 1.0, 1.0, 1.0, 1.0, 1.0, 1.0, 1.0, 1.0, 1.0, 1.0, 1.0, 1.0, 1.0, 1.0, 1.0, 1.0, 1.0, 1.0, 1.0, 1.0, 1.0, 1.0, 1.0, 1.0, 1.0, 1.0]]\n"
     ]
    }
   ],
   "execution_count": 87
  },
  {
   "metadata": {
    "ExecuteTime": {
     "end_time": "2024-12-16T09:15:42.495739Z",
     "start_time": "2024-12-16T09:15:40.089482Z"
    }
   },
   "cell_type": "code",
   "source": [
    "camera = Camera(pose, intrinsic)\n",
    "grid.get_camera_coverage(camera)"
   ],
   "id": "52bd78f3cda8b500",
   "outputs": [
    {
     "data": {
      "text/plain": [
       "1.0"
      ]
     },
     "execution_count": 85,
     "metadata": {},
     "output_type": "execute_result"
    }
   ],
   "execution_count": 85
  },
  {
   "metadata": {},
   "cell_type": "code",
   "outputs": [],
   "execution_count": null,
   "source": "",
   "id": "159725b9f9bb01da"
  }
 ],
 "metadata": {
  "kernelspec": {
   "display_name": "Python 3",
   "language": "python",
   "name": "python3"
  },
  "language_info": {
   "codemirror_mode": {
    "name": "ipython",
    "version": 2
   },
   "file_extension": ".py",
   "mimetype": "text/x-python",
   "name": "python",
   "nbconvert_exporter": "python",
   "pygments_lexer": "ipython2",
   "version": "2.7.6"
  }
 },
 "nbformat": 4,
 "nbformat_minor": 5
}
