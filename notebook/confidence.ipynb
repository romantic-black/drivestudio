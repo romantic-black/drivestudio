{
 "cells": [
  {
   "cell_type": "code",
   "id": "initial_id",
   "metadata": {
    "collapsed": true,
    "ExecuteTime": {
     "end_time": "2024-12-18T03:35:18.514223Z",
     "start_time": "2024-12-18T03:35:18.014736Z"
    }
   },
   "source": [
    "\n",
    "%load_ext autoreload\n",
    "%autoreload 2\n",
    "\n",
    "from typing import List, Optional\n",
    "from omegaconf import OmegaConf\n",
    "import os\n",
    "import time\n",
    "import json\n",
    "import wandb\n",
    "import logging\n",
    "import argparse\n",
    "\n",
    "import torch\n",
    "from utils.mytools import Grid2d\n",
    "from utils.grid_numba import Grid2dNumba\n"
   ],
   "outputs": [
    {
     "name": "stdout",
     "output_type": "stream",
     "text": [
      "The autoreload extension is already loaded. To reload it, use:\n",
      "  %reload_ext autoreload\n"
     ]
    }
   ],
   "execution_count": 205
  },
  {
   "cell_type": "code",
   "id": "f8e12b511020a114",
   "metadata": {
    "ExecuteTime": {
     "end_time": "2024-12-18T03:35:28.967987Z",
     "start_time": "2024-12-18T03:35:19.671512Z"
    }
   },
   "source": [
    "points = torch.load(\"/home/a/drivestudio/notebook/data/points.pth\")\n",
    "grounds = torch.load(\"/home/a/drivestudio/notebook/data//grounds.pth\")\n",
    "flow_class = torch.load(\"/home/a/drivestudio/notebook/data//flow_class.pth\")\n",
    "cameras = torch.load(\"/home/a/drivestudio/notebook/data//cameras.pth\")"
   ],
   "outputs": [],
   "execution_count": 206
  },
  {
   "cell_type": "code",
   "execution_count": null,
   "id": "4227cecdaa0a5fc",
   "metadata": {},
   "outputs": [],
   "source": [
    "import matplotlib.pyplot as plt\n",
    "\n",
    "def plot_lidar_points(lidar_points, ground_mask=None):\n",
    "    plt.figure(figsize=(10, 10))\n",
    "    plt.scatter(lidar_points[:, 0][~ground_mask], lidar_points[:, 1][~ground_mask], c='b', s=1)  # 2D scatter plot\n",
    "    plt.title('2D Lidar Points')\n",
    "    plt.xlabel('X Coordinate')\n",
    "    plt.ylabel('Y Coordinate')\n",
    "    plt.axis('equal')\n",
    "    plt.grid(True)\n",
    "    plt.show()\n",
    "\n",
    "plot_lidar_points(points.numpy(), grounds.numpy())  # Convert to numpy array for plotting\n"
   ]
  },
  {
   "cell_type": "code",
   "execution_count": null,
   "id": "2a942bde98b8abc2",
   "metadata": {},
   "outputs": [],
   "source": [
    "import torch.nn.functional as F\n",
    "\n",
    "def create_voxel_grid_2d(lidar_points, voxel_size=1):\n",
    "    z = lidar_points[:, 2]\n",
    "    lidar_points = lidar_points[(-1 <= z) & (z <= 3)]\n",
    "    x_min, x_max = lidar_points[:, 0].min(), lidar_points[:, 0].max()\n",
    "    y_min, y_max = lidar_points[:, 1].min(), lidar_points[:, 1].max()\n",
    "    \n",
    "    grid_size_x = int((x_max - x_min) / voxel_size) + 1\n",
    "    grid_size_y = int((y_max - y_min) / voxel_size) + 1\n",
    "    \n",
    "    voxel_grid = torch.zeros((grid_size_x, grid_size_y), dtype=torch.int32)\n",
    "    \n",
    "    # 计算每个点的体素索引\n",
    "    voxel_indices_x = ((lidar_points[:, 0] - x_min) / voxel_size).long()\n",
    "    voxel_indices_y = ((lidar_points[:, 1] - y_min) / voxel_size).long()\n",
    "    \n",
    "    # 将二维索引展平成一维索引\n",
    "    flat_indices = voxel_indices_x * grid_size_y + voxel_indices_y\n",
    "    \n",
    "    # 使用 torch.bincount 统计每个体素的点数量\n",
    "    counts = torch.bincount(flat_indices, minlength=grid_size_x * grid_size_y)\n",
    "    \n",
    "    # 将一维结果重塑为二维网格\n",
    "    voxel_grid = counts.view(grid_size_x, grid_size_y)\n",
    "    \n",
    "    return voxel_grid\n",
    "\n",
    "p = points[~grounds]\n",
    "c = flow_class[~grounds]\n",
    "\n",
    "# 生成2D体素网格\n",
    "voxel_grid_2d = create_voxel_grid_2d(p[c<=0])\n"
   ]
  },
  {
   "cell_type": "code",
   "execution_count": null,
   "id": "d8a57a52040ea24a",
   "metadata": {},
   "outputs": [],
   "source": [
    "plt.figure(figsize=(10, 10))\n",
    "plt.imshow(voxel_grid_2d.numpy() > 3, cmap='hot', interpolation='nearest')\n",
    "plt.title('Voxel Grid')\n",
    "plt.xlabel('Voxel X')\n",
    "plt.ylabel('Voxel Y')\n",
    "plt.colorbar(label='Point Count')\n",
    "plt.axis('equal')\n",
    "plt.show()\n"
   ]
  },
  {
   "cell_type": "code",
   "id": "d56b45f29e06c1b7",
   "metadata": {
    "ExecuteTime": {
     "end_time": "2024-12-18T03:35:42.721734Z",
     "start_time": "2024-12-18T03:35:38.585382Z"
    }
   },
   "source": [
    "from utils.mytools import Camera, Grid2d, CameraSet, Grid2dNumba\n",
    "grid = Grid2d(points, grounds, flow_class, cameras)"
   ],
   "outputs": [],
   "execution_count": 207
  },
  {
   "cell_type": "code",
   "id": "12e87d327e785802",
   "metadata": {
    "ExecuteTime": {
     "end_time": "2024-12-18T04:15:01.918865Z",
     "start_time": "2024-12-18T04:14:52.926393Z"
    }
   },
   "source": "grid_numba = Grid2dNumba(grid, radius=5)",
   "outputs": [],
   "execution_count": 261
  },
  {
   "cell_type": "code",
   "id": "b434731815240dfa",
   "metadata": {
    "ExecuteTime": {
     "end_time": "2024-12-18T04:15:07.488351Z",
     "start_time": "2024-12-18T04:15:05.485663Z"
    }
   },
   "source": [
    "area_coverage = grid_numba.get_area_coverage()"
   ],
   "outputs": [
    {
     "name": "stdout",
     "output_type": "stream",
     "text": [
      "0\n",
      "1000\n",
      "2000\n",
      "3000\n",
      "4000\n",
      "5000\n",
      "6000\n",
      "7000\n",
      "8000\n",
      "9000\n",
      "10000\n",
      "11000\n",
      "12000\n",
      "13000\n",
      "14000\n",
      "15000\n",
      "16000\n",
      "17000\n",
      "18000\n",
      "19000\n",
      "20000\n",
      "21000\n",
      "22000\n",
      "23000\n",
      "24000\n",
      "25000\n",
      "26000\n",
      "27000\n",
      "28000\n",
      "29000\n",
      "30000\n",
      "31000\n",
      "32000\n",
      "33000\n",
      "34000\n",
      "35000\n",
      "36000\n",
      "37000\n",
      "38000\n",
      "39000\n",
      "40000\n",
      "41000\n",
      "42000\n",
      "43000\n",
      "44000\n",
      "45000\n",
      "46000\n",
      "47000\n",
      "48000\n",
      "49000\n",
      "50000\n",
      "51000\n",
      "52000\n",
      "53000\n",
      "54000\n",
      "55000\n",
      "56000\n",
      "57000\n",
      "58000\n",
      "59000\n",
      "60000\n",
      "61000\n",
      "62000\n",
      "63000\n",
      "64000\n",
      "65000\n",
      "66000\n",
      "67000\n",
      "68000\n",
      "69000\n",
      "70000\n",
      "71000\n",
      "72000\n",
      "73000\n",
      "74000\n",
      "75000\n",
      "76000\n",
      "77000\n",
      "78000\n",
      "79000\n",
      "80000\n",
      "81000\n",
      "82000\n",
      "83000\n",
      "84000\n",
      "85000\n",
      "86000\n",
      "87000\n",
      "88000\n",
      "89000\n",
      "90000\n",
      "91000\n",
      "92000\n",
      "93000\n",
      "94000\n",
      "95000\n",
      "96000\n",
      "97000\n",
      "98000\n",
      "99000\n",
      "100000\n",
      "101000\n",
      "102000\n",
      "103000\n",
      "104000\n",
      "105000\n",
      "106000\n",
      "107000\n",
      "108000\n",
      "109000\n",
      "110000\n",
      "111000\n",
      "112000\n",
      "113000\n",
      "114000\n",
      "115000\n",
      "116000\n",
      "117000\n",
      "118000\n",
      "119000\n",
      "120000\n",
      "121000\n",
      "122000\n",
      "123000\n",
      "124000\n",
      "125000\n",
      "126000\n",
      "127000\n",
      "128000\n",
      "129000\n",
      "130000\n",
      "131000\n",
      "132000\n",
      "133000\n",
      "134000\n",
      "135000\n",
      "136000\n",
      "137000\n",
      "138000\n",
      "139000\n",
      "140000\n",
      "141000\n",
      "142000\n",
      "143000\n",
      "144000\n",
      "145000\n",
      "146000\n",
      "147000\n",
      "148000\n",
      "149000\n",
      "150000\n",
      "151000\n",
      "152000\n",
      "153000\n",
      "154000\n",
      "155000\n",
      "156000\n",
      "157000\n",
      "158000\n",
      "159000\n",
      "160000\n",
      "161000\n",
      "162000\n",
      "163000\n",
      "164000\n",
      "165000\n",
      "166000\n",
      "167000\n",
      "168000\n",
      "169000\n",
      "170000\n",
      "171000\n",
      "172000\n",
      "173000\n",
      "174000\n",
      "175000\n",
      "176000\n",
      "177000\n",
      "178000\n",
      "179000\n",
      "180000\n",
      "181000\n",
      "182000\n",
      "183000\n",
      "184000\n",
      "185000\n",
      "186000\n",
      "187000\n",
      "188000\n",
      "189000\n",
      "190000\n",
      "191000\n",
      "192000\n",
      "193000\n",
      "194000\n",
      "195000\n",
      "196000\n",
      "197000\n",
      "198000\n",
      "199000\n"
     ]
    }
   ],
   "execution_count": 262
  },
  {
   "cell_type": "code",
   "id": "9f85487e4870c534",
   "metadata": {
    "ExecuteTime": {
     "end_time": "2024-12-18T04:15:09.155982Z",
     "start_time": "2024-12-18T04:15:09.013376Z"
    }
   },
   "source": [
    "grid_numba.area_coverage = area_coverage\n",
    "cov_map = grid_numba.get_shown_map()\n",
    "#cov_map = grid_numba.get_shown_map_base_on_angel(9)\n",
    "grid_numba.fov"
   ],
   "outputs": [
    {
     "data": {
      "text/plain": [
       "array(0.86961025, dtype=float32)"
      ]
     },
     "execution_count": 263,
     "metadata": {},
     "output_type": "execute_result"
    }
   ],
   "execution_count": 263
  },
  {
   "cell_type": "code",
   "id": "159725b9f9bb01da",
   "metadata": {
    "ExecuteTime": {
     "end_time": "2024-12-18T04:15:12.321111Z",
     "start_time": "2024-12-18T04:15:12.297828Z"
    }
   },
   "source": [
    "from utils.mytools import farthest_point_sampling\n",
    "mask = (grid_numba.area_coverage > 0.5) & (grid_numba.area_coverage < 0.7)\n",
    "chosen_indices = grid_numba.indices[mask]\n",
    "_, chosen_indices = farthest_point_sampling(torch.tensor(chosen_indices), 20)\n",
    "mask.any()"
   ],
   "outputs": [
    {
     "data": {
      "text/plain": [
       "True"
      ]
     },
     "execution_count": 264,
     "metadata": {},
     "output_type": "execute_result"
    }
   ],
   "execution_count": 264
  },
  {
   "metadata": {
    "ExecuteTime": {
     "end_time": "2024-12-18T04:15:14.077165Z",
     "start_time": "2024-12-18T04:15:14.055575Z"
    }
   },
   "cell_type": "code",
   "source": [
    "import numpy as np\n",
    "map = grid.get_hot_map().numpy()\n",
    "canvas = np.zeros_like(map)\n",
    "canvas[map > 0] = -1\n",
    "canvas[cov_map > 0] = cov_map[cov_map > 0] * 10\n",
    "\n"
   ],
   "id": "692850f13aba2d74",
   "outputs": [],
   "execution_count": 265
  },
  {
   "metadata": {
    "ExecuteTime": {
     "end_time": "2024-12-18T04:15:15.768582Z",
     "start_time": "2024-12-18T04:15:15.751564Z"
    }
   },
   "cell_type": "code",
   "source": [
    "for i,j,theta in chosen_indices:\n",
    "    canvas[i, j] = 15"
   ],
   "id": "6a64d43bbaaa98e4",
   "outputs": [],
   "execution_count": 266
  },
  {
   "metadata": {
    "ExecuteTime": {
     "end_time": "2024-12-18T04:15:16.346033Z",
     "start_time": "2024-12-18T04:15:16.234141Z"
    }
   },
   "cell_type": "code",
   "source": [
    "from matplotlib import pyplot as plt\n",
    "\n",
    "plt.figure(figsize=(10, 10))\n",
    "plt.imshow(canvas, cmap='hot', interpolation='nearest')\n",
    "# 限制\n",
    "#plt.clim(0, 1)\n",
    "plt.title('Voxel Grid')\n",
    "plt.xlabel('Voxel X')\n",
    "plt.ylabel('Voxel Y')\n",
    "plt.colorbar(label='Point Count')\n",
    "plt.axis('equal')\n",
    "plt.show()"
   ],
   "id": "f364d425535a977c",
   "outputs": [
    {
     "data": {
      "text/plain": [
       "<Figure size 1000x1000 with 2 Axes>"
      ],
      "image/png": "[encoded data removed]"
     },
     "metadata": {},
     "output_type": "display_data"
    }
   ],
   "execution_count": 267
  },
  {
   "metadata": {},
   "cell_type": "code",
   "outputs": [],
   "execution_count": null,
   "source": "",
   "id": "effe5e2bc283baf9"
  }
 ],
 "metadata": {
  "kernelspec": {
   "display_name": "Python 3",
   "language": "python",
   "name": "python3"
  },
  "language_info": {
   "codemirror_mode": {
    "name": "ipython",
    "version": 2
   },
   "file_extension": ".py",
   "mimetype": "text/x-python",
   "name": "python",
   "nbconvert_exporter": "python",
   "pygments_lexer": "ipython2",
   "version": "2.7.6"
  }
 },
 "nbformat": 4,
 "nbformat_minor": 5
}
