{
 "cells": [
  {
   "cell_type": "code",
   "id": "initial_id",
   "metadata": {
    "collapsed": true
   },
   "source": [
    "%load_ext autoreload\n",
    "%autoreload 2\n",
    "from typing import List, Optional\n",
    "from omegaconf import OmegaConf\n",
    "import os\n",
    "import time\n",
    "import json\n",
    "import wandb\n",
    "import logging\n",
    "import argparse\n",
    "\n",
    "import torch\n",
    "from datasets.driving_dataset import DrivingDataset\n",
    "from datasets.my_dataset import MyDataset\n",
    "from utils.misc import import_str\n",
    "from models.trainers import BasicTrainer\n",
    "from models.video_utils import (\n",
    "    render_images,\n",
    "    save_videos,\n",
    "    render_novel_views\n",
    ")\n"
   ],
   "outputs": [],
   "execution_count": null
  },
  {
   "cell_type": "code",
   "id": "7949265ca904367",
   "metadata": {},
   "source": [
    "# 添加路径  ../data\n",
    "cfg = OmegaConf.load(os.path.join(\"/mnt/e/Output/cam3/23\", \"config.yaml\"))\n",
    "cfg.data.pixel_source.cameras = [0, 3, 4]\n",
    "cfg.data.pixel_source.downscale_when_loading = [2, 2, 2]\n",
    "%cd /home/a/drivestudio\n",
    "\n",
    "dataset = MyDataset(cfg.data)\n",
    "\n",
    "\n"
   ],
   "outputs": [],
   "execution_count": null
  },
  {
   "cell_type": "code",
   "id": "0539c3b8",
   "metadata": {},
   "source": [
    "device = torch.device(\"cuda\" if torch.cuda.is_available() else \"cpu\")\n",
    "\n",
    "trainer = import_str(cfg.trainer.type)(\n",
    "    **cfg.trainer,\n",
    "    num_timesteps=dataset.num_img_timesteps,\n",
    "    model_config=cfg.model,\n",
    "    num_train_images=len(dataset.train_image_set),\n",
    "    num_full_images=len(dataset.full_image_set),\n",
    "    test_set_indices=dataset.test_timesteps,\n",
    "    scene_aabb=dataset.get_aabb().reshape(2, 3),\n",
    "    device=device\n",
    "\n",
    ")"
   ],
   "outputs": [],
   "execution_count": null
  },
  {
   "metadata": {},
   "cell_type": "code",
   "source": [
    "trainer.resume_from_checkpoint(\n",
    "    ckpt_path=\"/mnt/e/Output/cam3/23/checkpoint_20000.pth\",\n",
    "    load_only_model=True\n",
    ")"
   ],
   "id": "44ef73bb2c91b0c",
   "outputs": [],
   "execution_count": null
  },
  {
   "metadata": {},
   "cell_type": "code",
   "source": [
    "from utils.mytools import split_trajectory\n",
    "\n",
    "\n",
    "traj = dataset.get_novel_render_traj([\"front_center_interp\"], dataset.frame_num)[\"front_center_interp\"]\n",
    "segments, ranges = split_trajectory(traj, min_count=5)\n",
    "indices = []\n",
    "for seg in segments:\n",
    "    indices.append(3 * seg[-1] )\n",
    "    indices.append(3 * seg[-1] + 1)\n",
    "    indices.append(3 * seg[-1] + 2)\n",
    "print(indices)"
   ],
   "id": "6b442e46bc555562",
   "outputs": [],
   "execution_count": null
  },
  {
   "metadata": {},
   "cell_type": "code",
   "source": "results = render_images(trainer, dataset.full_image_set, vis_indices=indices)",
   "id": "42165ec443f52994",
   "outputs": [],
   "execution_count": null
  },
  {
   "metadata": {},
   "cell_type": "code",
   "source": [
    "from matplotlib.pyplot import imshow\n",
    "from utils.visualization import to8b\n",
    "img = to8b(results[\"rgbs\"][15])\n"
   ],
   "id": "77a5a807a52cab05",
   "outputs": [],
   "execution_count": null
  },
  {
   "metadata": {},
   "cell_type": "code",
   "source": [
    "import cv2\n",
    "cv2.imwrite(\"/mnt/e/Output/cam3/23/0.png\",img)"
   ],
   "id": "842b36abf43adcac",
   "outputs": [],
   "execution_count": null
  },
  {
   "metadata": {},
   "cell_type": "code",
   "source": "",
   "id": "bd833c849906578f",
   "outputs": [],
   "execution_count": null
  }
 ],
 "metadata": {
  "kernelspec": {
   "display_name": "Python 3",
   "language": "python",
   "name": "python3"
  },
  "language_info": {
   "codemirror_mode": {
    "name": "ipython",
    "version": 2
   },
   "file_extension": ".py",
   "mimetype": "text/x-python",
   "name": "python",
   "nbconvert_exporter": "python",
   "pygments_lexer": "ipython2",
   "version": "2.7.6"
  }
 },
 "nbformat": 4,
 "nbformat_minor": 5
}
